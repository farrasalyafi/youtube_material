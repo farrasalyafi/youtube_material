{
 "cells": [
  {
   "cell_type": "markdown",
   "metadata": {},
   "source": [
    "# **------------------------------------------- 04 --------------------------------------------**\n",
    "# **----------------- KONSEP OBJECT ORIENTED PROGRAMMING ------------**\n",
    "\n",
    "Notebook ini merupakan salah satu dari series #BelajarDataScience yang dibuat oleh Muhammad Farras Alyafi khusunya untuk yang tidak memiliki latar belakang IT, statistika ataupun matematika. Notebook dan juga youtube seriesnya diusahakan dibuat semudah mungkin agar mudah dipahami. Semoga notebook ini bermanfaat. Silahkan bagikan notebook ini dan jangan lupa cek video lainya di link berikut:\n",
    "\n",
    "https://youtu.be/F2VmHPqdxEM"
   ]
  },
  {
   "cell_type": "markdown",
   "metadata": {},
   "source": [
    "# 1. Pengertian Object Oriented Programing\n",
    "\n",
    "Sebelum membahas OOP, kita harus menegtahui dulu paradigma atau cara membuat program yang namanya Prosedural. Nah, jadi kalo prosedural dia itu cara kerjanya runut berdasarkan barisper baris, kemudian kita mememcah program kita menjadi bagian-bagian kecil seperti function. Kelebihan prosedural:\n",
    "1. To the point: artinya kita bsia langsung memberikan intruksi ataupun melakukan apapun yang kita mau\n",
    "2. Mudah dibaca atau dijalankan (Jika jumlah barisnya ataupun program yang dibuat tidak terlalu kompleks)\n",
    "3. Mudah ditlusuri jika ada error atau mau merubah (Jika jumlah barisnya ataupun program yang dibuat tidak terlalu kompleks)\n",
    "4. Membutuhkna lebih sedikit memmory dibanding OOP\n",
    "\n",
    "\n",
    "Nah sekarang kita akan membandingkanya dengan OOP. Jadi OOP adalah sebuah metode atau paradigma membuat program yang memasukkan paket ciri-ciri(properti/atribut) dan kebiasaan(behaviour/method) ke dalam sebuah object. Di python, objecnya itu dinamakan class.\n",
    "\n",
    "Misalnya nih, kita sedang membuat mobil. Nah mobil ini kan pasti punya standar ciri-cirinya kayak warna, merek,jumlah ban, jumlah pintu tipe mesin dll (itu yang dinamakan attribute atau property). Kemudian, si mobil ini juga punya kebiasaan atau kemampuan-kemampuan umum kayak kalo pedal gas diinjek dia akan maju, kalo pedal remnya diinjek dia akan ngerem, trus kalo pencet tombol starter dia akan menyalakan mesin(itu yang dinamakan behavihour/method). Kelebihan OOP:\n",
    "1. Bisa merepreesentasi obejct dunia nyata (ex: mobil/orang)\n",
    "2. Bisa digunakan berkali-kali\n",
    "3. Memudahkan kolabrasi\n",
    "4. Memudahkan ketika dikeloka dan ingin diperbesar"
   ]
  },
  {
   "cell_type": "code",
   "execution_count": 1,
   "metadata": {},
   "outputs": [],
   "source": [
    "#contoh membuat objcet sebelum menggunakan class\n",
    "a = ['Honda', 'Baru']\n",
    "b = ['BMW', 'Lama']\n",
    "c = ['Mercedez', 'Baru', 200000000]"
   ]
  },
  {
   "cell_type": "code",
   "execution_count": 2,
   "metadata": {},
   "outputs": [],
   "source": [
    "#contoh membuat class\n",
    "class Mobil: #nama class itu konvensinya harus pakai huruf besar\n",
    "    pass"
   ]
  },
  {
   "cell_type": "code",
   "execution_count": 3,
   "metadata": {},
   "outputs": [],
   "source": [
    "#membuat object/intantiante\n",
    "mobil1 = Mobil()"
   ]
  },
  {
   "cell_type": "code",
   "execution_count": 4,
   "metadata": {},
   "outputs": [],
   "source": [
    "#membuat attribute dengan cara yang kurang tepat\n",
    "mobil1.merek = 'Honda'\n",
    "mobil1.kondisi = 'Baru'"
   ]
  },
  {
   "cell_type": "code",
   "execution_count": 5,
   "metadata": {},
   "outputs": [
    {
     "name": "stdout",
     "output_type": "stream",
     "text": [
      "Baru\n"
     ]
    }
   ],
   "source": [
    "print(mobil1.kondisi)"
   ]
  },
  {
   "cell_type": "code",
   "execution_count": 6,
   "metadata": {},
   "outputs": [],
   "source": [
    "#membuat attribute dengan cara yang kurang tepat\n",
    "mobil2 = Mobil()\n",
    "mobil2.merek = 'BMW'\n",
    "mobil2.kondisi = 'Bekas'\n",
    "mobil2.harga = 200000000"
   ]
  },
  {
   "cell_type": "code",
   "execution_count": 7,
   "metadata": {},
   "outputs": [
    {
     "name": "stdout",
     "output_type": "stream",
     "text": [
      "200000000\n"
     ]
    }
   ],
   "source": [
    "print(mobil2.harga)"
   ]
  },
  {
   "cell_type": "markdown",
   "metadata": {},
   "source": [
    "Di atas adalah contoh pembuatan atribut dalam class dengan cara yang salah. Karena setiap orang bisa saja merubah jumlah atributanya karena tidak ada jumlah atribut yang pasti dan tidak terdokumentasi dengan baik. Sehingga, perlu dibuat di awal agar tidak terjadi perubahaan yang tidak diinginkan."
   ]
  },
  {
   "cell_type": "code",
   "execution_count": 8,
   "metadata": {},
   "outputs": [],
   "source": [
    "#cara membuat class yang benar\n",
    "class Mobil:\n",
    "    \"\"\"\n",
    "    Ini adalah class tentang mobil\n",
    "    \"\"\"\n",
    "    tipe = 'Sedan' #ini adalah class atribute\n",
    "    def __init__(self,merek,kondisi,harga): #__init__ adalah built ini function untuk mendefinisikan attribut sebuah object/instance\n",
    "        self.merek = merek        #self disini adalah object yang mau kita masukin nilainya (ex:mobil1,mobil2,mobil3)\n",
    "        self.kondisi = kondisi    #merek,kondisi & harga adalah atribute yang penulisanya diawali dengan (.) / titik setelah obejtcnya\n",
    "        self.harga = harga"
   ]
  },
  {
   "cell_type": "markdown",
   "metadata": {},
   "source": [
    "Sekarang setelah menggunakan __init__ semua object yang dimasukkan harus memiliki attribute atau properti mereke, kondisi dan harga dan juga sudah punya class atribute yang isinya 'Sedan'."
   ]
  },
  {
   "cell_type": "code",
   "execution_count": 9,
   "metadata": {},
   "outputs": [
    {
     "ename": "TypeError",
     "evalue": "__init__() missing 3 required positional arguments: 'merek', 'kondisi', and 'harga'",
     "output_type": "error",
     "traceback": [
      "\u001b[1;31m---------------------------------------------------------------------------\u001b[0m",
      "\u001b[1;31mTypeError\u001b[0m                                 Traceback (most recent call last)",
      "\u001b[1;32m<ipython-input-9-15dc62481dbc>\u001b[0m in \u001b[0;36m<module>\u001b[1;34m\u001b[0m\n\u001b[0;32m      1\u001b[0m \u001b[1;31m#bukti setelah dibuat atribut\u001b[0m\u001b[1;33m\u001b[0m\u001b[1;33m\u001b[0m\u001b[1;33m\u001b[0m\u001b[0m\n\u001b[1;32m----> 2\u001b[1;33m \u001b[0mmobil3\u001b[0m \u001b[1;33m=\u001b[0m \u001b[0mMobil\u001b[0m\u001b[1;33m(\u001b[0m\u001b[1;33m)\u001b[0m \u001b[1;31m#sekarang dia akan error karena harus memasukkan argumen ke dalam parameter yaitu merek, kondisi dan harga\u001b[0m\u001b[1;33m\u001b[0m\u001b[1;33m\u001b[0m\u001b[0m\n\u001b[0m",
      "\u001b[1;31mTypeError\u001b[0m: __init__() missing 3 required positional arguments: 'merek', 'kondisi', and 'harga'"
     ]
    }
   ],
   "source": [
    "#bukti setelah dibuat atribut\n",
    "mobil3 = Mobil() #sekarang dia akan error karena harus memasukkan argumen ke dalam parameter yaitu merek, kondisi dan harga"
   ]
  },
  {
   "cell_type": "code",
   "execution_count": 10,
   "metadata": {},
   "outputs": [],
   "source": [
    "#contoh object setelah class bener yang bener\n",
    "mobil3 = Mobil('Mersedez', 'Baru', 250000000)"
   ]
  },
  {
   "cell_type": "code",
   "execution_count": 11,
   "metadata": {},
   "outputs": [
    {
     "name": "stdout",
     "output_type": "stream",
     "text": [
      "Baru\n"
     ]
    }
   ],
   "source": [
    "print(mobil3.kondisi)"
   ]
  },
  {
   "cell_type": "code",
   "execution_count": 15,
   "metadata": {},
   "outputs": [
    {
     "data": {
      "text/plain": [
       "'Sedan'"
      ]
     },
     "execution_count": 15,
     "metadata": {},
     "output_type": "execute_result"
    }
   ],
   "source": [
    "#cara melihat class attribute\n",
    "mobil3.tipe"
   ]
  },
  {
   "cell_type": "code",
   "execution_count": 12,
   "metadata": {},
   "outputs": [
    {
     "ename": "TypeError",
     "evalue": "__init__() missing 1 required positional argument: 'harga'",
     "output_type": "error",
     "traceback": [
      "\u001b[1;31m---------------------------------------------------------------------------\u001b[0m",
      "\u001b[1;31mTypeError\u001b[0m                                 Traceback (most recent call last)",
      "\u001b[1;32m<ipython-input-12-2cbeb20ea862>\u001b[0m in \u001b[0;36m<module>\u001b[1;34m\u001b[0m\n\u001b[0;32m      1\u001b[0m \u001b[1;31m#contoh error jika argument yang dimasukkan kurang / lebih\u001b[0m\u001b[1;33m\u001b[0m\u001b[1;33m\u001b[0m\u001b[1;33m\u001b[0m\u001b[0m\n\u001b[1;32m----> 2\u001b[1;33m \u001b[0mmobil4\u001b[0m \u001b[1;33m=\u001b[0m \u001b[0mMobil\u001b[0m\u001b[1;33m(\u001b[0m\u001b[1;34m'Volvo'\u001b[0m\u001b[1;33m,\u001b[0m \u001b[1;34m'Bekas'\u001b[0m\u001b[1;33m)\u001b[0m \u001b[1;31m#akan error karengan kurang argument 'harga'\u001b[0m\u001b[1;33m\u001b[0m\u001b[1;33m\u001b[0m\u001b[0m\n\u001b[0m",
      "\u001b[1;31mTypeError\u001b[0m: __init__() missing 1 required positional argument: 'harga'"
     ]
    }
   ],
   "source": [
    "#contoh error jika argument yang dimasukkan kurang / lebih\n",
    "mobil4 = Mobil('Volvo', 'Bekas') #akan error karengan kurang argument 'harga'"
   ]
  },
  {
   "cell_type": "code",
   "execution_count": 16,
   "metadata": {},
   "outputs": [],
   "source": [
    "#contoh merubah niali attribute dalam instance/object\n",
    "mobil3.harga = 300000000"
   ]
  },
  {
   "cell_type": "code",
   "execution_count": 17,
   "metadata": {},
   "outputs": [
    {
     "data": {
      "text/plain": [
       "300000000"
      ]
     },
     "execution_count": 17,
     "metadata": {},
     "output_type": "execute_result"
    }
   ],
   "source": [
    "mobil3.harga"
   ]
  },
  {
   "cell_type": "code",
   "execution_count": 18,
   "metadata": {},
   "outputs": [],
   "source": [
    "#cara merubah nilai class attribute\n",
    "mobil3.tipe = 'Jeep'"
   ]
  },
  {
   "cell_type": "code",
   "execution_count": 19,
   "metadata": {},
   "outputs": [
    {
     "data": {
      "text/plain": [
       "'Jeep'"
      ]
     },
     "execution_count": 19,
     "metadata": {},
     "output_type": "execute_result"
    }
   ],
   "source": [
    "mobil3.tipe"
   ]
  },
  {
   "cell_type": "code",
   "execution_count": 20,
   "metadata": {},
   "outputs": [],
   "source": [
    "#bisa menambahkan atribut tetapi tidak wajib dituliskan ketika mendefiniskan class ke dalam object\n",
    "class Mobil:\n",
    "    \"\"\"\n",
    "    Ini adalah class tentang mobil\n",
    "    \"\"\"\n",
    "    tipe = 'Sedan'\n",
    "    def __init__(self,merek,kondisi,harga):\n",
    "        self.merek = merek        \n",
    "        self.kondisi = kondisi  \n",
    "        self.harga = harga\n",
    "        self.garansi = 5\n",
    "        self.tipebahanbakar = 'Bensin'"
   ]
  },
  {
   "cell_type": "code",
   "execution_count": 21,
   "metadata": {},
   "outputs": [],
   "source": [
    "#contoh penggunaan atribut yang tidak wajib\n",
    "mobil3 = Mobil('Mersedez', 'Baru', 250000000)"
   ]
  },
  {
   "cell_type": "code",
   "execution_count": 22,
   "metadata": {},
   "outputs": [
    {
     "data": {
      "text/plain": [
       "5"
      ]
     },
     "execution_count": 22,
     "metadata": {},
     "output_type": "execute_result"
    }
   ],
   "source": [
    "mobil3.garansi"
   ]
  },
  {
   "cell_type": "code",
   "execution_count": 23,
   "metadata": {},
   "outputs": [
    {
     "data": {
      "text/plain": [
       "'Bensin'"
      ]
     },
     "execution_count": 23,
     "metadata": {},
     "output_type": "execute_result"
    }
   ],
   "source": [
    "mobil3.tipebahanbakar"
   ]
  },
  {
   "cell_type": "code",
   "execution_count": 24,
   "metadata": {},
   "outputs": [],
   "source": [
    "#contoh membuat method baru\n",
    "class Mobil:\n",
    "    \"\"\"\n",
    "    Ini adalah class tentang mobil\n",
    "    \"\"\"\n",
    "    def __init__(self,merek,kondisi,harga):\n",
    "        self.merek = merek        \n",
    "        self.kondisi = kondisi  \n",
    "        self.harga = harga\n",
    "        self.garansi = 5\n",
    "        self.tipebahanbakar = 'Bensin'\n",
    "        \n",
    "    def status_mobil(self): #ini adalah pembuatan method\n",
    "        return 'Status mobil ini adalah: {}'.format(self.kondisi)"
   ]
  },
  {
   "cell_type": "code",
   "execution_count": 65,
   "metadata": {},
   "outputs": [
    {
     "data": {
      "text/plain": [
       "'Status mobil ini adalah: Baru'"
      ]
     },
     "execution_count": 65,
     "metadata": {},
     "output_type": "execute_result"
    }
   ],
   "source": [
    "#contoh penggunaan method\n",
    "mobil3 = Mobil('Mersedez', 'Baru', 250000000)\n",
    "mobil3.status_mobil()"
   ]
  },
  {
   "cell_type": "code",
   "execution_count": 26,
   "metadata": {},
   "outputs": [
    {
     "data": {
      "text/plain": [
       "250000000"
      ]
     },
     "execution_count": 26,
     "metadata": {},
     "output_type": "execute_result"
    }
   ],
   "source": [
    "#memanggil method atau atribute dengan 'tab'\n",
    "mobil3.harga"
   ]
  },
  {
   "cell_type": "code",
   "execution_count": 27,
   "metadata": {},
   "outputs": [
    {
     "name": "stdout",
     "output_type": "stream",
     "text": [
      "<__main__.Mobil object at 0x000001F2F8C74F40>\n"
     ]
    }
   ],
   "source": [
    "#contoh mau lihat isi dari mobil3 pakai print\n",
    "print(mobil3) #akan keluarnya object, makanya di dalam class nya harus pakai __str__ untuk menampilkan datanya"
   ]
  },
  {
   "cell_type": "code",
   "execution_count": 63,
   "metadata": {},
   "outputs": [],
   "source": [
    "#contoh method __str__\n",
    "class Mobil:\n",
    "    \"\"\"\n",
    "    Ini adalah class tentang mobil\n",
    "    \"\"\"\n",
    "    def __init__(self,merek,kondisi,harga):\n",
    "        self.merek = merek        \n",
    "        self.kondisi = kondisi  \n",
    "        self.harga = harga\n",
    "        self.garansi = 5\n",
    "        self.tipebahanbakar = 'Bensin'\n",
    "    \n",
    "    def __str__(self):\n",
    "        return f\"Detail data:\\n -Merek: {self.merek}\\n -Kondisi: {self.kondisi}\\n -Harga: {self.harga}\"\n",
    "        \n",
    "    def status_mobil(self): #ini adalah pembuatan method\n",
    "        return 'Status mobil ini adalah: {}'.format(self.kondisi)"
   ]
  },
  {
   "cell_type": "code",
   "execution_count": 67,
   "metadata": {},
   "outputs": [],
   "source": [
    "mobil3 = Mobil('Mersedez', 'Baru', 250000000)"
   ]
  },
  {
   "cell_type": "code",
   "execution_count": 68,
   "metadata": {},
   "outputs": [
    {
     "name": "stdout",
     "output_type": "stream",
     "text": [
      "Detail data:\n",
      " -Merek: Mersedez\n",
      " -Kondisi: Baru\n",
      " -Harga: 250000000\n"
     ]
    }
   ],
   "source": [
    "print(mobil3)"
   ]
  },
  {
   "cell_type": "markdown",
   "metadata": {},
   "source": [
    "# 2. Prinsip-prinsip OOP\n"
   ]
  },
  {
   "cell_type": "markdown",
   "metadata": {},
   "source": [
    "## 2.1 Inherintance\n",
    "\n",
    "Inheritance, seperti artinya, jadi dia bisa mewariskan apa aja dari parent classnya."
   ]
  },
  {
   "cell_type": "code",
   "execution_count": 70,
   "metadata": {},
   "outputs": [
    {
     "data": {
      "image/jpeg": "[encoded data removed]",
      "text/plain": [
       "<IPython.core.display.Image object>"
      ]
     },
     "execution_count": 70,
     "metadata": {},
     "output_type": "execute_result"
    }
   ],
   "source": [
    "from IPython.display import Image\n",
    "Image('https://assets.holbertonschool.com/media_images/files/000/000/927/original/diagram.jpg')"
   ]
  },
  {
   "cell_type": "code",
   "execution_count": 217,
   "metadata": {},
   "outputs": [],
   "source": [
    "#membuat contoh parent class\n",
    "class Kucing:\n",
    "    def __init__(self,nama,umur):\n",
    "        self.nama = nama\n",
    "        self.umur = umur\n",
    "    \n",
    "    def meong(self):\n",
    "        return 'Meow meow meow meow'"
   ]
  },
  {
   "cell_type": "code",
   "execution_count": 218,
   "metadata": {},
   "outputs": [],
   "source": [
    "#membuat contoh child class\n",
    "class Kampung(Kucing):\n",
    "    def __init__(self,nama,umur,berat):\n",
    "        self.berat = berat\n",
    "        \n",
    "        #invoke parent class nya\n",
    "        Kucing.__init__(self,nama,umur)"
   ]
  },
  {
   "cell_type": "code",
   "execution_count": 219,
   "metadata": {},
   "outputs": [],
   "source": [
    "jimbon = Kampung('Jimbon', 1,25)"
   ]
  },
  {
   "cell_type": "code",
   "execution_count": 220,
   "metadata": {},
   "outputs": [
    {
     "data": {
      "text/plain": [
       "1"
      ]
     },
     "execution_count": 220,
     "metadata": {},
     "output_type": "execute_result"
    }
   ],
   "source": [
    "jimbon.umur"
   ]
  },
  {
   "cell_type": "code",
   "execution_count": 221,
   "metadata": {},
   "outputs": [
    {
     "data": {
      "text/plain": [
       "True"
      ]
     },
     "execution_count": 221,
     "metadata": {},
     "output_type": "execute_result"
    }
   ],
   "source": [
    "#cek apakah Kampung adalah subcla/child class dari Kucing\n",
    "issubclass(Kampung,Kucing)"
   ]
  },
  {
   "cell_type": "code",
   "execution_count": 222,
   "metadata": {},
   "outputs": [],
   "source": [
    "#contoh multiple inheritance\n",
    "#parent class 1\n",
    "class Binatang:\n",
    "    def __init__(self,kelas):\n",
    "        self.kelas = kelas\n",
    "        \n",
    "    def makan(self):\n",
    "        print('Nyam nyam nyaaammm')\n",
    "\n",
    "#parent class 2\n",
    "class Kucing:\n",
    "    def __init__(self,nama,umur):\n",
    "        self.nama = nama\n",
    "        self.umur = umur\n",
    "    \n",
    "    def meong(self):\n",
    "        return 'Meow meow meow meow'"
   ]
  },
  {
   "cell_type": "code",
   "execution_count": 223,
   "metadata": {},
   "outputs": [],
   "source": [
    "#membuat contoh child class\n",
    "class Kampung(Binatang, Kucing):\n",
    "    def __init__(self, kelas, nama, umur, berat):\n",
    "        Binatang.__init__(self,kelas)\n",
    "        Kucing.__init__(self,nama,umur)\n",
    "        self.berat = berat"
   ]
  },
  {
   "cell_type": "code",
   "execution_count": 224,
   "metadata": {},
   "outputs": [],
   "source": [
    "jimbon = Kampung('Mamalia','Jimbon',17,5)"
   ]
  },
  {
   "cell_type": "code",
   "execution_count": 225,
   "metadata": {},
   "outputs": [
    {
     "data": {
      "text/plain": [
       "5"
      ]
     },
     "execution_count": 225,
     "metadata": {},
     "output_type": "execute_result"
    }
   ],
   "source": [
    "jimbon.berat"
   ]
  },
  {
   "cell_type": "code",
   "execution_count": 226,
   "metadata": {},
   "outputs": [],
   "source": [
    "#contoh multilevel inheritance \n",
    "#parent class \n",
    "class Binatang:\n",
    "    def __init__(self,kelas):\n",
    "        self.kelas = kelas\n",
    "        \n",
    "    def makan(self):\n",
    "        print('Nyam nyam nyaaammm')\n",
    "\n",
    "#child class\n",
    "class Kucing(Binatang):\n",
    "    def __init__(self,kelas,nama,umur):\n",
    "        Binatang.__init__(self,kelas)\n",
    "        self.nama = nama\n",
    "        self.umur = umur\n",
    "    \n",
    "    def meong(self):\n",
    "        return 'Meow meow meow meow'\n",
    "    \n",
    "#grandchild class\n",
    "class Kampung(Kucing):\n",
    "    def __init__(self, kelas, nama, umur, berat):\n",
    "        Kucing.__init__(self,kelas,nama,umur)\n",
    "        self.berat = berat"
   ]
  },
  {
   "cell_type": "code",
   "execution_count": 227,
   "metadata": {},
   "outputs": [],
   "source": [
    "jimbon = Kampung('Mamalia','Jimbon',17, 6)"
   ]
  },
  {
   "cell_type": "code",
   "execution_count": 228,
   "metadata": {},
   "outputs": [
    {
     "name": "stdout",
     "output_type": "stream",
     "text": [
      "Nyam nyam nyaaammm\n"
     ]
    }
   ],
   "source": [
    "jimbon.makan()"
   ]
  },
  {
   "cell_type": "markdown",
   "metadata": {},
   "source": [
    "## 2.2 Encapsulation\n",
    "\n",
    "Memberikan batasan akses untuk method dan variabel yang terdapat dalam class. Ini dgunakan untuk menghindari perubahan data yang dianggap penting."
   ]
  },
  {
   "cell_type": "code",
   "execution_count": 229,
   "metadata": {},
   "outputs": [],
   "source": [
    "#contoh protected members \"_\"\n",
    "class Komputer:\n",
    "    def __init__(self):\n",
    "        self._keuntungan = 25.00\n",
    "        \n",
    "class Asus(Komputer):\n",
    "    def __init__(self, merek, hargajual):\n",
    "        Komputer.__init__(self)\n",
    "        self.merek = merek\n",
    "        self.hargajual = hargajual\n",
    "    \n",
    "    def profit(self):\n",
    "        total = self.hargajual * self._keuntungan /100\n",
    "        print('Total keuntungan sebesar Rp.{}'.format(total))"
   ]
  },
  {
   "cell_type": "code",
   "execution_count": 230,
   "metadata": {},
   "outputs": [],
   "source": [
    "a = Asus('Asus', 20000)"
   ]
  },
  {
   "cell_type": "code",
   "execution_count": 192,
   "metadata": {
    "scrolled": true
   },
   "outputs": [
    {
     "ename": "AttributeError",
     "evalue": "'Asus' object has no attribute 'keuntungan'",
     "output_type": "error",
     "traceback": [
      "\u001b[1;31m---------------------------------------------------------------------------\u001b[0m",
      "\u001b[1;31mAttributeError\u001b[0m                            Traceback (most recent call last)",
      "\u001b[1;32m<ipython-input-192-e11e6ad5ef73>\u001b[0m in \u001b[0;36m<module>\u001b[1;34m\u001b[0m\n\u001b[0;32m      1\u001b[0m \u001b[1;31m#Error karena tidak bisa diakses\u001b[0m\u001b[1;33m\u001b[0m\u001b[1;33m\u001b[0m\u001b[1;33m\u001b[0m\u001b[0m\n\u001b[1;32m----> 2\u001b[1;33m \u001b[0ma\u001b[0m\u001b[1;33m.\u001b[0m\u001b[0mkeuntungan\u001b[0m\u001b[1;33m\u001b[0m\u001b[1;33m\u001b[0m\u001b[0m\n\u001b[0m",
      "\u001b[1;31mAttributeError\u001b[0m: 'Asus' object has no attribute 'keuntungan'"
     ]
    }
   ],
   "source": [
    "#Error karena tidak bisa diakses\n",
    "a.keuntungan"
   ]
  },
  {
   "cell_type": "code",
   "execution_count": 137,
   "metadata": {},
   "outputs": [
    {
     "name": "stdout",
     "output_type": "stream",
     "text": [
      "Total keuntungan sebesar Rp.5000.0\n"
     ]
    }
   ],
   "source": [
    "#tidak error karena dia bisa diakses jika di dalam class\n",
    "a.profit()"
   ]
  },
  {
   "cell_type": "code",
   "execution_count": 193,
   "metadata": {},
   "outputs": [],
   "source": [
    "#contoh private member \"__\"\n",
    "class Komputer:\n",
    "    def __init__(self):\n",
    "        self.__keuntungan = 25.00\n",
    "        \n",
    "class Asus(Komputer):\n",
    "    def __init__(self, merek, hargajual):\n",
    "        Komputer.__init__(self)\n",
    "        self.merek = merek\n",
    "        self.hargajual = hargajual\n",
    "    \n",
    "    def profit(self):\n",
    "        total = self.hargajual * self.__keuntungan /100\n",
    "        print('Total keuntungan sebesar Rp.{}'.format(total))"
   ]
  },
  {
   "cell_type": "code",
   "execution_count": 194,
   "metadata": {},
   "outputs": [],
   "source": [
    "a = Asus('Asus', 20000)"
   ]
  },
  {
   "cell_type": "code",
   "execution_count": 195,
   "metadata": {},
   "outputs": [
    {
     "ename": "AttributeError",
     "evalue": "'Asus' object has no attribute 'keuntungan'",
     "output_type": "error",
     "traceback": [
      "\u001b[1;31m---------------------------------------------------------------------------\u001b[0m",
      "\u001b[1;31mAttributeError\u001b[0m                            Traceback (most recent call last)",
      "\u001b[1;32m<ipython-input-195-d87fdd2d998a>\u001b[0m in \u001b[0;36m<module>\u001b[1;34m\u001b[0m\n\u001b[0;32m      1\u001b[0m \u001b[1;31m#akan error seperti protected member\u001b[0m\u001b[1;33m\u001b[0m\u001b[1;33m\u001b[0m\u001b[1;33m\u001b[0m\u001b[0m\n\u001b[1;32m----> 2\u001b[1;33m \u001b[0ma\u001b[0m\u001b[1;33m.\u001b[0m\u001b[0mkeuntungan\u001b[0m\u001b[1;33m\u001b[0m\u001b[1;33m\u001b[0m\u001b[0m\n\u001b[0m",
      "\u001b[1;31mAttributeError\u001b[0m: 'Asus' object has no attribute 'keuntungan'"
     ]
    }
   ],
   "source": [
    "#akan error seperti protected member\n",
    "a.keuntungan"
   ]
  },
  {
   "cell_type": "code",
   "execution_count": 196,
   "metadata": {},
   "outputs": [
    {
     "ename": "AttributeError",
     "evalue": "'Asus' object has no attribute '_Asus__keuntungan'",
     "output_type": "error",
     "traceback": [
      "\u001b[1;31m---------------------------------------------------------------------------\u001b[0m",
      "\u001b[1;31mAttributeError\u001b[0m                            Traceback (most recent call last)",
      "\u001b[1;32m<ipython-input-196-358556bd658e>\u001b[0m in \u001b[0;36m<module>\u001b[1;34m\u001b[0m\n\u001b[0;32m      1\u001b[0m \u001b[1;31m#akan error karena dia private bukan proteced\u001b[0m\u001b[1;33m\u001b[0m\u001b[1;33m\u001b[0m\u001b[1;33m\u001b[0m\u001b[0m\n\u001b[1;32m----> 2\u001b[1;33m \u001b[0ma\u001b[0m\u001b[1;33m.\u001b[0m\u001b[0mprofit\u001b[0m\u001b[1;33m(\u001b[0m\u001b[1;33m)\u001b[0m\u001b[1;33m\u001b[0m\u001b[1;33m\u001b[0m\u001b[0m\n\u001b[0m",
      "\u001b[1;32m<ipython-input-193-3e8aabf879f4>\u001b[0m in \u001b[0;36mprofit\u001b[1;34m(self)\u001b[0m\n\u001b[0;32m     11\u001b[0m \u001b[1;33m\u001b[0m\u001b[0m\n\u001b[0;32m     12\u001b[0m     \u001b[1;32mdef\u001b[0m \u001b[0mprofit\u001b[0m\u001b[1;33m(\u001b[0m\u001b[0mself\u001b[0m\u001b[1;33m)\u001b[0m\u001b[1;33m:\u001b[0m\u001b[1;33m\u001b[0m\u001b[1;33m\u001b[0m\u001b[0m\n\u001b[1;32m---> 13\u001b[1;33m         \u001b[0mtotal\u001b[0m \u001b[1;33m=\u001b[0m \u001b[0mself\u001b[0m\u001b[1;33m.\u001b[0m\u001b[0mhargajual\u001b[0m \u001b[1;33m*\u001b[0m \u001b[0mself\u001b[0m\u001b[1;33m.\u001b[0m\u001b[0m__keuntungan\u001b[0m \u001b[1;33m/\u001b[0m\u001b[1;36m100\u001b[0m\u001b[1;33m\u001b[0m\u001b[1;33m\u001b[0m\u001b[0m\n\u001b[0m\u001b[0;32m     14\u001b[0m         \u001b[0mprint\u001b[0m\u001b[1;33m(\u001b[0m\u001b[1;34m'Total keuntungan sebesar Rp.{}'\u001b[0m\u001b[1;33m.\u001b[0m\u001b[0mformat\u001b[0m\u001b[1;33m(\u001b[0m\u001b[0mtotal\u001b[0m\u001b[1;33m)\u001b[0m\u001b[1;33m)\u001b[0m\u001b[1;33m\u001b[0m\u001b[1;33m\u001b[0m\u001b[0m\n",
      "\u001b[1;31mAttributeError\u001b[0m: 'Asus' object has no attribute '_Asus__keuntungan'"
     ]
    }
   ],
   "source": [
    "#akan error karena dia private bukan proteced\n",
    "a.profit()"
   ]
  },
  {
   "cell_type": "markdown",
   "metadata": {},
   "source": [
    "## 2.3 Abstarction\n",
    "\n",
    "Abstarction ini kalo diibaratin misal kita punya smartphone, nah kita kan bisa touchscree,telfon, foto dll tanpa kita tahu bagaimana si smartphone ini bekerja di dalamnnya. Sama seperti class, semua yang bersifat behing the scene harus di encapsulasi atau private. Ini bermanfaat ketika kita punya banyak class agar tidak membingungkan."
   ]
  },
  {
   "cell_type": "markdown",
   "metadata": {},
   "source": [
    "## 2.3 Polymorphism\n",
    "\n",
    "Polymorphism adalah ketika sebuah object dapat memiliki berbagai macam bentuk."
   ]
  },
  {
   "cell_type": "code",
   "execution_count": 149,
   "metadata": {},
   "outputs": [
    {
     "name": "stdout",
     "output_type": "stream",
     "text": [
      "3\n",
      "AkuKamu\n"
     ]
    }
   ],
   "source": [
    "#contoh sederhana\n",
    "a = 1\n",
    "b = 2\n",
    "c = a + b #disisni \"+\" itu sebgaai operator penjumlahan\n",
    "print(c)\n",
    "\n",
    "str_1 = 'Aku'\n",
    "str_2 = 'Kamu'\n",
    "hasil = str_1 + str_2 #disisni \"+\" menjadi penggabungan atau concatenating\n",
    "print(hasil)"
   ]
  },
  {
   "cell_type": "code",
   "execution_count": 197,
   "metadata": {},
   "outputs": [],
   "source": [
    "#contoh polymophism\n",
    "class Honda:\n",
    "    def __init__(self, tipe):\n",
    "        self.tipe = tipe\n",
    "    \n",
    "    def gas(self):\n",
    "        print('Jalan Ngeeenggg!!')\n",
    "        \n",
    "    def rem(self):\n",
    "        print('Berhenti!!')\n",
    "        \n",
    "class Mercy:\n",
    "    def __init__(self, tipe):\n",
    "        self.tipe = tipe\n",
    "        \n",
    "    def gas(self):\n",
    "        print('Jalan Broooomm!!')\n",
    "        \n",
    "    def rem(self):\n",
    "        print('Stooop!!')"
   ]
  },
  {
   "cell_type": "code",
   "execution_count": 198,
   "metadata": {},
   "outputs": [],
   "source": [
    "civic = Honda('CIvic')\n",
    "maybach = Mercy('Maybach')"
   ]
  },
  {
   "cell_type": "code",
   "execution_count": 201,
   "metadata": {},
   "outputs": [
    {
     "name": "stdout",
     "output_type": "stream",
     "text": [
      "Berhenti!!\n"
     ]
    }
   ],
   "source": [
    "civic.rem()"
   ]
  },
  {
   "cell_type": "code",
   "execution_count": 202,
   "metadata": {},
   "outputs": [
    {
     "name": "stdout",
     "output_type": "stream",
     "text": [
      "Stooop!!\n"
     ]
    }
   ],
   "source": [
    "maybach.rem()"
   ]
  },
  {
   "cell_type": "code",
   "execution_count": 207,
   "metadata": {},
   "outputs": [],
   "source": [
    "#membuat polymorphism inheritance\n",
    "class Binatang:\n",
    "    def makan(self):\n",
    "        print(\"{} makanya sangat lambat\".format(self.nama))\n",
    "        \n",
    "class Anjing(Binatang):\n",
    "    def __init__(self,nama):\n",
    "        self.nama = nama\n",
    "    \n",
    "    def makan(self):\n",
    "        print(\"{} makanya cepat\".format(self.nama)) #method overiding\n",
    "        \n",
    "class Kucing(Binatang):\n",
    "    def __init__(self,nama):\n",
    "        self.nama =  nama"
   ]
  },
  {
   "cell_type": "code",
   "execution_count": 208,
   "metadata": {},
   "outputs": [],
   "source": [
    "ron = Anjing('Ron')\n",
    "kity = Kucing('Kity')"
   ]
  },
  {
   "cell_type": "code",
   "execution_count": 209,
   "metadata": {},
   "outputs": [
    {
     "name": "stdout",
     "output_type": "stream",
     "text": [
      "Ron makanya cepat\n",
      "Kity makanya sangat lambat\n"
     ]
    }
   ],
   "source": [
    "ron.makan()\n",
    "kity.makan()"
   ]
  },
  {
   "cell_type": "markdown",
   "metadata": {},
   "source": [
    "dia akan mencari dulu method di dalam class tersebut, jika ada akan diekskusi, namun jika kosong atau tidak ada dia akan mengambil method yang dari parentnya"
   ]
  }
 ],
 "metadata": {
  "kernelspec": {
   "display_name": "Python 3",
   "language": "python",
   "name": "python3"
  },
  "language_info": {
   "codemirror_mode": {
    "name": "ipython",
    "version": 3
   },
   "file_extension": ".py",
   "mimetype": "text/x-python",
   "name": "python",
   "nbconvert_exporter": "python",
   "pygments_lexer": "ipython3",
   "version": "3.8.5"
  }
 },
 "nbformat": 4,
 "nbformat_minor": 4
}
