{
 "cells": [
  {
   "cell_type": "markdown",
   "metadata": {},
   "source": [
    "# **------------------------------------------- 01 --------------------------------------------**\n",
    "# **---------------------------- PENGENALAN PYTHON ----------------------------------**\n",
    "\n",
    "Notebook ini merupakan salah satu dari series #BelajarDataScience yang dibuat oleh Muhammad Farras Alyafi khusunya untuk yang tidak memiliki latar belakang IT, statistika ataupun matematika. Notebook dan juga yotube seriesnya diusahakan dibuat semudah mungkin agar mudah dipahami. Semoga notebook ini bermanfaat. Silahkan bagikan notebook ini dan jangan lupa cek video lainya di link berikut:\n",
    "https://youtu.be/F2VmHPqdxEM"
   ]
  },
  {
   "cell_type": "markdown",
   "metadata": {},
   "source": [
    "# 1. Cara Kerja\n",
    "\n",
    "Secara mudahnya, cara kerja python adalah dengan mengeksekusi atau menampilkan codingan secara baris perbaris dimulai dari yang paling pertama atau atas. Contohnya seperti di bawah ini:"
   ]
  },
  {
   "cell_type": "code",
   "execution_count": 4,
   "metadata": {},
   "outputs": [
    {
     "name": "stdout",
     "output_type": "stream",
     "text": [
      "ini adalah baris pertama\n",
      "ini adalah baris kedua\n",
      "ini adalah baris ketiga\n"
     ]
    }
   ],
   "source": [
    "print(\"ini adalah baris pertama\") # ----> ini baris pertama\n",
    "print(\"ini adalah baris kedua\") # ----> ini baris kedua\n",
    "print(\"ini adalah baris ketiga\") # -----> ini abris ketiga"
   ]
  },
  {
   "cell_type": "markdown",
   "metadata": {},
   "source": [
    "Nah, kalo dilihat, python akan menampilkan \"ini adalah baris pertama\" kemudian baris kedua dan ketiga. Jadi python akan menampilkan sesuai dengan urutan codinganya."
   ]
  },
  {
   "cell_type": "markdown",
   "metadata": {},
   "source": [
    "# 2. Comment\n",
    "\n",
    "Comment adalah tanda \"#\" / pagar yang digunakan agar codingan tidak ditampilkan atau dilewati oleh python. Jadi ketika ada tanda \"#\", maka python tidak akan mengeksekusi atau menampilkan codinganya seperti contoh di bawah ini: "
   ]
  },
  {
   "cell_type": "code",
   "execution_count": 6,
   "metadata": {},
   "outputs": [
    {
     "name": "stdout",
     "output_type": "stream",
     "text": [
      "ini adalah baris pertama\n",
      "ini adalah baris ketiga\n"
     ]
    }
   ],
   "source": [
    "print(\"ini adalah baris pertama\") #ini adalah contoh comment yang tidak akan dijalankan atau ditampilakn oleh python\n",
    "#print(\"ini adalah baris kedua\")\n",
    "print(\"ini adalah baris ketiga\")"
   ]
  },
  {
   "cell_type": "markdown",
   "metadata": {},
   "source": [
    "Bisa dilihat contoh di atas, bahwa pada baris pertama ada tanda \"#\" dan kalimat setelah codingan, tetapi di outputnya tidak ditampilkan oleh python. Kemudian juga pada baris kedua, sebelum tulisan \"print\" terdapat tanda \"#\", sehingga baris kedua akan di lewati oleh python dan langsung mengeksekusi baris ketiga."
   ]
  },
  {
   "cell_type": "markdown",
   "metadata": {},
   "source": [
    "# 3. Error\n",
    "\n",
    "Error adalah kejadian dimana python tidakdapat menjalankan codingan dikarenakan kesalahan pada codingan. Ada beberapa error sumber error yang mungkin menjadi sebab seperti salah penulisan, tidak lengkap sytanxnya, atau kesalahan dalam codingan."
   ]
  },
  {
   "cell_type": "code",
   "execution_count": 1,
   "metadata": {},
   "outputs": [
    {
     "ename": "NameError",
     "evalue": "name 'frint' is not defined",
     "output_type": "error",
     "traceback": [
      "\u001b[1;31m---------------------------------------------------------------------------\u001b[0m",
      "\u001b[1;31mNameError\u001b[0m                                 Traceback (most recent call last)",
      "\u001b[1;32m<ipython-input-1-adf6a86ae194>\u001b[0m in \u001b[0;36m<module>\u001b[1;34m\u001b[0m\n\u001b[0;32m      1\u001b[0m \u001b[1;31m#Contoh Error Salah Penulisan\u001b[0m\u001b[1;33m\u001b[0m\u001b[1;33m\u001b[0m\u001b[1;33m\u001b[0m\u001b[0m\n\u001b[1;32m----> 2\u001b[1;33m \u001b[0mfrint\u001b[0m\u001b[1;33m(\u001b[0m\u001b[1;34m'ini adalah contoh error kesalah penulisan'\u001b[0m\u001b[1;33m)\u001b[0m\u001b[1;33m\u001b[0m\u001b[1;33m\u001b[0m\u001b[0m\n\u001b[0m",
      "\u001b[1;31mNameError\u001b[0m: name 'frint' is not defined"
     ]
    }
   ],
   "source": [
    "#Contoh Error Salah Penulisan\n",
    "frint('ini adalah contoh error kesalah penulisan')"
   ]
  },
  {
   "cell_type": "code",
   "execution_count": 2,
   "metadata": {
    "scrolled": true
   },
   "outputs": [
    {
     "ename": "SyntaxError",
     "evalue": "EOL while scanning string literal (<ipython-input-2-bde56047346f>, line 4)",
     "output_type": "error",
     "traceback": [
      "\u001b[1;36m  File \u001b[1;32m\"<ipython-input-2-bde56047346f>\"\u001b[1;36m, line \u001b[1;32m4\u001b[0m\n\u001b[1;33m    print(\"ini adalah baris ketiga)\u001b[0m\n\u001b[1;37m                                   ^\u001b[0m\n\u001b[1;31mSyntaxError\u001b[0m\u001b[1;31m:\u001b[0m EOL while scanning string literal\n"
     ]
    }
   ],
   "source": [
    "#Contoh kesalhan dalam penulisan syntax\n",
    "print(\"ini adalah baris pertama\")\n",
    "print(\"ini adalah baris kedua\")\n",
    "print(\"ini adalah baris ketiga)"
   ]
  },
  {
   "cell_type": "markdown",
   "metadata": {},
   "source": [
    "Kalo misalnya kita ga tau errornya karena apa, solusinya adalaahhhhhhh..... GOOGLE! Bisa cari di google, terutama website seperti stackoverflow. Ga perlu takut kalo error, pasti bakal sering terjadi, jadi tenang saja."
   ]
  },
  {
   "cell_type": "markdown",
   "metadata": {},
   "source": [
    "# 4. Type Objects\n",
    "\n",
    "Ada bebeberapa tipe object di python, tapi kita coba dari yang paling dasar dulu ya, nanti kedepanya di notebook yang lain akan dibahas juga. Nah, disisni ada empat tipe object.\n",
    "\n",
    "1. String: ini adalah bentuk object yang isisnya kata-kata atau hurf atau kalimat\n",
    "2. Integer: isinya adalah angka yang bukan desimal jadi contohnya kayak (1, 2, 3, atau -1, -2, -3)\n",
    "3. Float: isinya adalah angka desimal, jadi contohnya kayak (1.2 , 1.3 atau -3.4, -1.2)\n",
    "4. Boolean: isinya itu antara True (Benar) atau False (Salah)"
   ]
  },
  {
   "cell_type": "code",
   "execution_count": 12,
   "metadata": {},
   "outputs": [
    {
     "data": {
      "text/plain": [
       "'ini adalah tulisan'"
      ]
     },
     "execution_count": 12,
     "metadata": {},
     "output_type": "execute_result"
    }
   ],
   "source": [
    "\"ini adalah tulisan\" #ini adalah string"
   ]
  },
  {
   "cell_type": "code",
   "execution_count": 13,
   "metadata": {},
   "outputs": [
    {
     "data": {
      "text/plain": [
       "1"
      ]
     },
     "execution_count": 13,
     "metadata": {},
     "output_type": "execute_result"
    }
   ],
   "source": [
    "1 #ini adalah integer (1, 2, 3, -1, -20, 100)"
   ]
  },
  {
   "cell_type": "code",
   "execution_count": 14,
   "metadata": {},
   "outputs": [
    {
     "data": {
      "text/plain": [
       "1.2"
      ]
     },
     "execution_count": 14,
     "metadata": {},
     "output_type": "execute_result"
    }
   ],
   "source": [
    "1.2 #ini adalah float (1.1, 1.3, 1.7, -1.9)"
   ]
  },
  {
   "cell_type": "code",
   "execution_count": 16,
   "metadata": {},
   "outputs": [
    {
     "data": {
      "text/plain": [
       "True"
      ]
     },
     "execution_count": 16,
     "metadata": {},
     "output_type": "execute_result"
    }
   ],
   "source": [
    "True #ini adalah boolean"
   ]
  },
  {
   "cell_type": "code",
   "execution_count": 17,
   "metadata": {},
   "outputs": [
    {
     "data": {
      "text/plain": [
       "False"
      ]
     },
     "execution_count": 17,
     "metadata": {},
     "output_type": "execute_result"
    }
   ],
   "source": [
    "False #ini adalah boolean"
   ]
  },
  {
   "cell_type": "markdown",
   "metadata": {},
   "source": [
    "# 5. Basic Operators\n",
    "\n",
    "Python juga bisa melakukan beberapa operasi matematika ataupun logika dll. Tetapi kita coba mulai dengan contoh aritmatika dulu agar teman-teman bisa terbayang. Untuk contohn operator lainya akan ada di video dan notebook selanjutnya. Di bawah ini adalah contoh penggunaan operator aritmatika di python. Bisa digunakan di semua tipe object."
   ]
  },
  {
   "cell_type": "code",
   "execution_count": 18,
   "metadata": {},
   "outputs": [
    {
     "data": {
      "text/plain": [
       "2"
      ]
     },
     "execution_count": 18,
     "metadata": {},
     "output_type": "execute_result"
    }
   ],
   "source": [
    "# integer + integer\n",
    "1 + 1"
   ]
  },
  {
   "cell_type": "code",
   "execution_count": 19,
   "metadata": {},
   "outputs": [
    {
     "data": {
      "text/plain": [
       "4.5"
      ]
     },
     "execution_count": 19,
     "metadata": {},
     "output_type": "execute_result"
    }
   ],
   "source": [
    "# integer + float\n",
    "1 + 3.5"
   ]
  },
  {
   "cell_type": "code",
   "execution_count": 20,
   "metadata": {},
   "outputs": [
    {
     "data": {
      "text/plain": [
       "-3"
      ]
     },
     "execution_count": 20,
     "metadata": {},
     "output_type": "execute_result"
    }
   ],
   "source": [
    "# integer - integer\n",
    "1 - 4"
   ]
  },
  {
   "cell_type": "code",
   "execution_count": 21,
   "metadata": {},
   "outputs": [
    {
     "data": {
      "text/plain": [
       "2.0"
      ]
     },
     "execution_count": 21,
     "metadata": {},
     "output_type": "execute_result"
    }
   ],
   "source": [
    "# integer dibagi integer\n",
    "4/2"
   ]
  },
  {
   "cell_type": "code",
   "execution_count": 22,
   "metadata": {},
   "outputs": [
    {
     "data": {
      "text/plain": [
       "2"
      ]
     },
     "execution_count": 22,
     "metadata": {},
     "output_type": "execute_result"
    }
   ],
   "source": [
    "# integer dibagi integer\n",
    "4 //2"
   ]
  },
  {
   "cell_type": "code",
   "execution_count": 23,
   "metadata": {},
   "outputs": [
    {
     "data": {
      "text/plain": [
       "25"
      ]
     },
     "execution_count": 23,
     "metadata": {},
     "output_type": "execute_result"
    }
   ],
   "source": [
    "# perkalian\n",
    "5 * 5"
   ]
  },
  {
   "cell_type": "code",
   "execution_count": 24,
   "metadata": {
    "scrolled": true
   },
   "outputs": [
    {
     "data": {
      "text/plain": [
       "25"
      ]
     },
     "execution_count": 24,
     "metadata": {},
     "output_type": "execute_result"
    }
   ],
   "source": [
    "# pangkat\n",
    "5 **2"
   ]
  },
  {
   "cell_type": "code",
   "execution_count": 3,
   "metadata": {},
   "outputs": [
    {
     "data": {
      "text/plain": [
       "125"
      ]
     },
     "execution_count": 3,
     "metadata": {},
     "output_type": "execute_result"
    }
   ],
   "source": [
    "#pangkat\n",
    "5 **3"
   ]
  },
  {
   "cell_type": "markdown",
   "metadata": {},
   "source": [
    "# 6. Variable\n",
    "\n",
    "Di python, tipe-tipe object ataupun nilai bisa dimasukkan ke dalam variabel. Ada beberapa ketentuan pembuatan variabel seperti:\n",
    "\n",
    "1. Variabel tidak bisa dinamakan dengan awalan angka\n",
    "2. variabel tidak bisa menggunakan spasi, jadi harus ada penghubung misalnya _ \"under score\"\n",
    "3. Variabel tidak bisa pakai simbol :'\",<>/?|\\()!@#$%^&*~-+\n",
    "4. Variabel tidak bisa pakai kata yang sudah dipakai dalam pemrograman python atau disebut Reserved Word (False, True, for, in, dll)"
   ]
  },
  {
   "cell_type": "code",
   "execution_count": 4,
   "metadata": {},
   "outputs": [],
   "source": [
    "#contoh pembuatan variabel\n",
    "x = 2"
   ]
  },
  {
   "cell_type": "code",
   "execution_count": 27,
   "metadata": {},
   "outputs": [
    {
     "data": {
      "text/plain": [
       "2"
      ]
     },
     "execution_count": 27,
     "metadata": {},
     "output_type": "execute_result"
    }
   ],
   "source": [
    "x"
   ]
  },
  {
   "cell_type": "code",
   "execution_count": 5,
   "metadata": {},
   "outputs": [],
   "source": [
    "#contoh pembuatan variabel\n",
    "y = 3"
   ]
  },
  {
   "cell_type": "code",
   "execution_count": 29,
   "metadata": {},
   "outputs": [],
   "source": [
    "z = x + y"
   ]
  },
  {
   "cell_type": "code",
   "execution_count": 30,
   "metadata": {},
   "outputs": [
    {
     "data": {
      "text/plain": [
       "5"
      ]
     },
     "execution_count": 30,
     "metadata": {},
     "output_type": "execute_result"
    }
   ],
   "source": [
    "z"
   ]
  },
  {
   "cell_type": "code",
   "execution_count": 31,
   "metadata": {},
   "outputs": [
    {
     "data": {
      "text/plain": [
       "'ini adalah contoh variable yang isinya string'"
      ]
     },
     "execution_count": 31,
     "metadata": {},
     "output_type": "execute_result"
    }
   ],
   "source": [
    "# contoh variabel yang isinya string\n",
    "d = \"ini adalah contoh variable yang isinya string\"\n",
    "d"
   ]
  },
  {
   "cell_type": "code",
   "execution_count": 32,
   "metadata": {},
   "outputs": [
    {
     "ename": "SyntaxError",
     "evalue": "cannot assign to literal (<ipython-input-32-77d6d3bd67ec>, line 1)",
     "output_type": "error",
     "traceback": [
      "\u001b[1;36m  File \u001b[1;32m\"<ipython-input-32-77d6d3bd67ec>\"\u001b[1;36m, line \u001b[1;32m1\u001b[0m\n\u001b[1;33m    10 = \"ini adalah contoh yang salah\"\u001b[0m\n\u001b[1;37m    ^\u001b[0m\n\u001b[1;31mSyntaxError\u001b[0m\u001b[1;31m:\u001b[0m cannot assign to literal\n"
     ]
    }
   ],
   "source": [
    "# contoh penulisan variabel yang salah dengan angka\n",
    "10 = \"ini adalah contoh yang salah\""
   ]
  },
  {
   "cell_type": "code",
   "execution_count": 6,
   "metadata": {},
   "outputs": [
    {
     "ename": "SyntaxError",
     "evalue": "invalid syntax (<ipython-input-6-86caeddcd921>, line 2)",
     "output_type": "error",
     "traceback": [
      "\u001b[1;36m  File \u001b[1;32m\"<ipython-input-6-86caeddcd921>\"\u001b[1;36m, line \u001b[1;32m2\u001b[0m\n\u001b[1;33m    nama variabel = 'ini contoh yang salah'\u001b[0m\n\u001b[1;37m         ^\u001b[0m\n\u001b[1;31mSyntaxError\u001b[0m\u001b[1;31m:\u001b[0m invalid syntax\n"
     ]
    }
   ],
   "source": [
    "#contoh penulisan variabel yang salah dengan sepasi\n",
    "nama variabel = 'ini contoh yang salah'"
   ]
  },
  {
   "cell_type": "code",
   "execution_count": 7,
   "metadata": {},
   "outputs": [
    {
     "ename": "SyntaxError",
     "evalue": "invalid syntax (<ipython-input-7-c4f4aa5e75f2>, line 2)",
     "output_type": "error",
     "traceback": [
      "\u001b[1;36m  File \u001b[1;32m\"<ipython-input-7-c4f4aa5e75f2>\"\u001b[1;36m, line \u001b[1;32m2\u001b[0m\n\u001b[1;33m    < = 'ini contoh yang salah'\u001b[0m\n\u001b[1;37m    ^\u001b[0m\n\u001b[1;31mSyntaxError\u001b[0m\u001b[1;31m:\u001b[0m invalid syntax\n"
     ]
    }
   ],
   "source": [
    "#contoh penulisan variabel yang salah dengan simbol\n",
    "< = 'ini contoh yang salah'"
   ]
  },
  {
   "cell_type": "code",
   "execution_count": 38,
   "metadata": {},
   "outputs": [
    {
     "ename": "SyntaxError",
     "evalue": "cannot assign to False (<ipython-input-38-10a25e05b4ea>, line 1)",
     "output_type": "error",
     "traceback": [
      "\u001b[1;36m  File \u001b[1;32m\"<ipython-input-38-10a25e05b4ea>\"\u001b[1;36m, line \u001b[1;32m1\u001b[0m\n\u001b[1;33m    False = 'ini adalah contoh variabel yang salah'\u001b[0m\n\u001b[1;37m    ^\u001b[0m\n\u001b[1;31mSyntaxError\u001b[0m\u001b[1;31m:\u001b[0m cannot assign to False\n"
     ]
    }
   ],
   "source": [
    "#contoh penulisan variabel yang salah dengan kata-kata yang sudah dipakai python\n",
    "False = 'ini adalah contoh variabel yang salah'"
   ]
  },
  {
   "cell_type": "code",
   "execution_count": 11,
   "metadata": {},
   "outputs": [],
   "source": [
    "#contoh penulisan variabel yang kurnag baik (susah dibaca)\n",
    "inicontohyangkurangbaik = 10"
   ]
  },
  {
   "cell_type": "code",
   "execution_count": 10,
   "metadata": {},
   "outputs": [],
   "source": [
    "#contoh yang baik\n",
    "ini_contoh_yang_baik = 10"
   ]
  },
  {
   "cell_type": "code",
   "execution_count": 36,
   "metadata": {},
   "outputs": [],
   "source": [
    "#Isi variabel berbeda sesuai dengan namanya\n",
    "umur = 17\n",
    "Umur = 20"
   ]
  },
  {
   "cell_type": "code",
   "execution_count": 37,
   "metadata": {},
   "outputs": [
    {
     "name": "stdout",
     "output_type": "stream",
     "text": [
      "17\n",
      "20\n"
     ]
    }
   ],
   "source": [
    "print(umur)\n",
    "print(Umur)"
   ]
  },
  {
   "cell_type": "markdown",
   "metadata": {},
   "source": [
    "# 7. Help / ?\n",
    "\n",
    "Kalo misalanya ga tau kegunaan syntax atau codingan yang ada di python, bisa menggunakan tanda tanya \"?\" atau dengan menggunakan (help)"
   ]
  },
  {
   "cell_type": "code",
   "execution_count": 9,
   "metadata": {},
   "outputs": [],
   "source": [
    "#contoh pakai tanda tanya \"?\"\n",
    "print?"
   ]
  },
  {
   "cell_type": "code",
   "execution_count": 40,
   "metadata": {},
   "outputs": [
    {
     "name": "stdout",
     "output_type": "stream",
     "text": [
      "Help on built-in function print in module builtins:\n",
      "\n",
      "print(...)\n",
      "    print(value, ..., sep=' ', end='\\n', file=sys.stdout, flush=False)\n",
      "    \n",
      "    Prints the values to a stream, or to sys.stdout by default.\n",
      "    Optional keyword arguments:\n",
      "    file:  a file-like object (stream); defaults to the current sys.stdout.\n",
      "    sep:   string inserted between values, default a space.\n",
      "    end:   string appended after the last value, default a newline.\n",
      "    flush: whether to forcibly flush the stream.\n",
      "\n"
     ]
    }
   ],
   "source": [
    "#contoh pakai help\n",
    "help(print)"
   ]
  },
  {
   "cell_type": "markdown",
   "metadata": {},
   "source": [
    "# 8. Tab Complition\n",
    "\n",
    "Python juga memudahkan kita dalam penulisan code, jadi kita bisa melengkapi codingan kita secara otomatis dengan menekan tombol \"tab\" pada keyboard kita. Kalo misalnya ada beberapa syntax atau codingan yang sama, nanti akan muncul pilihan. Tapi, kalo misal cuma ada satu nanti dia langsung otomatis melengkapinya."
   ]
  },
  {
   "cell_type": "code",
   "execution_count": 13,
   "metadata": {},
   "outputs": [],
   "source": [
    "#contoh yang akan keluar pilihan\n",
    "ini #ketika setelah menulis \"ini\" coba pencet tombol \"tab\" nanti akan keluar pilihan"
   ]
  },
  {
   "cell_type": "code",
   "execution_count": 15,
   "metadata": {},
   "outputs": [],
   "source": [
    "#contoh yang langsung otomatis ngisi\n",
    "ini_contoh_yang_b #coba tekan \"tab\" setelah huruf b, nanti dia kan otomatis ngisi"
   ]
  },
  {
   "cell_type": "markdown",
   "metadata": {},
   "source": [
    "# 9. Indexing\n",
    "\n",
    "Jadi, kalo indexing itu cara untuk mengambil nilai atau value pada data berdasarkan index atau posisinya.\n",
    "\n",
    "**Note: indexing selalu dimulai dari nol (0)**"
   ]
  },
  {
   "cell_type": "code",
   "execution_count": 16,
   "metadata": {},
   "outputs": [],
   "source": [
    "#Buat variabel nama\n",
    "nama = \"agus cyntah kamoe\""
   ]
  },
  {
   "cell_type": "code",
   "execution_count": 18,
   "metadata": {},
   "outputs": [
    {
     "name": "stdout",
     "output_type": "stream",
     "text": [
      "a\n"
     ]
    }
   ],
   "source": [
    "#contoh indexing posisi pertama\n",
    "print(nama[0])"
   ]
  },
  {
   "cell_type": "code",
   "execution_count": 20,
   "metadata": {},
   "outputs": [
    {
     "name": "stdout",
     "output_type": "stream",
     "text": [
      "t\n"
     ]
    }
   ],
   "source": [
    "#contoh indexing posisi ke 8\n",
    "print(nama[8])"
   ]
  },
  {
   "cell_type": "code",
   "execution_count": 21,
   "metadata": {},
   "outputs": [
    {
     "name": "stdout",
     "output_type": "stream",
     "text": [
      "e\n"
     ]
    }
   ],
   "source": [
    "#contoh indexing posisi ke 16\n",
    "print(nama[16])"
   ]
  },
  {
   "cell_type": "markdown",
   "metadata": {},
   "source": [
    "# 10. Negative Indexing\n",
    "\n",
    "Ini kebalikanya indexing biasa. Jadi ngambil nilai atau value pada data tapi urutanya dirubah dari belakang.\n",
    "\n",
    "**Note: negative indexing selalu dimulai dari -1 (-1)**"
   ]
  },
  {
   "cell_type": "code",
   "execution_count": 22,
   "metadata": {},
   "outputs": [
    {
     "name": "stdout",
     "output_type": "stream",
     "text": [
      "e\n"
     ]
    }
   ],
   "source": [
    "#contoh negative indexing paling awal\n",
    "print(nama[-1])"
   ]
  },
  {
   "cell_type": "code",
   "execution_count": 25,
   "metadata": {},
   "outputs": [
    {
     "name": "stdout",
     "output_type": "stream",
     "text": [
      "k\n"
     ]
    }
   ],
   "source": [
    "#contoh negative indexing ke 5 dari akhir\n",
    "print(nama[-5])"
   ]
  },
  {
   "cell_type": "code",
   "execution_count": 26,
   "metadata": {},
   "outputs": [
    {
     "data": {
      "text/plain": [
       "17"
      ]
     },
     "execution_count": 26,
     "metadata": {},
     "output_type": "execute_result"
    }
   ],
   "source": [
    "#menghitung panjang dari data\n",
    "len(nama)"
   ]
  },
  {
   "cell_type": "markdown",
   "metadata": {},
   "source": [
    "# 11. Slicing\n",
    "\n",
    "Slicing itu ibaratnya kita mau motong-motong data atau ngambil bagian dari data yang kita punya. Jadi, kita bisa ambi nilai di posisi 0 sampai 5 atau di posisi 10 sampai 15.\n",
    "\n",
    "***Note: slicing berhenti sebelum angka yang ditentukan, jadi kalo [0:5], hasilnya akan 0,1,2,3,4 ***"
   ]
  },
  {
   "cell_type": "code",
   "execution_count": 28,
   "metadata": {},
   "outputs": [
    {
     "name": "stdout",
     "output_type": "stream",
     "text": [
      "agus\n"
     ]
    }
   ],
   "source": [
    "#contoh slicing\n",
    "print(nama[0:4])"
   ]
  },
  {
   "cell_type": "code",
   "execution_count": 33,
   "metadata": {},
   "outputs": [
    {
     "name": "stdout",
     "output_type": "stream",
     "text": [
      "kamoe\n"
     ]
    }
   ],
   "source": [
    "#contoh slicing\n",
    "print(nama[12:18])"
   ]
  },
  {
   "cell_type": "code",
   "execution_count": 84,
   "metadata": {},
   "outputs": [
    {
     "name": "stdout",
     "output_type": "stream",
     "text": [
      "agus\n"
     ]
    }
   ],
   "source": [
    "#penulisan lain untuk index 0 / pertama\n",
    "print(nama[:4])"
   ]
  },
  {
   "cell_type": "code",
   "execution_count": 85,
   "metadata": {},
   "outputs": [
    {
     "name": "stdout",
     "output_type": "stream",
     "text": [
      "kamoe\n"
     ]
    }
   ],
   "source": [
    "#penulisan lain untuk sampai index terkahir\n",
    "print(nama[12:])"
   ]
  },
  {
   "cell_type": "code",
   "execution_count": 64,
   "metadata": {},
   "outputs": [
    {
     "name": "stdout",
     "output_type": "stream",
     "text": [
      "\n"
     ]
    }
   ],
   "source": [
    "#contoh slicing dengn negative indexing ---- > harus dengan stride"
   ]
  },
  {
   "cell_type": "markdown",
   "metadata": {},
   "source": [
    "# 12. Stride\n",
    "\n",
    "Kalo stride, dia akan ngambil nilai atau value yang cara pengambilanya bisa kita atur longkapnya,misal setiap 1 kali atau 2 kali."
   ]
  },
  {
   "cell_type": "code",
   "execution_count": 43,
   "metadata": {},
   "outputs": [
    {
     "data": {
      "text/plain": [
       "'agus cyntah kamoe'"
      ]
     },
     "execution_count": 43,
     "metadata": {},
     "output_type": "execute_result"
    }
   ],
   "source": [
    "nama"
   ]
  },
  {
   "cell_type": "code",
   "execution_count": 46,
   "metadata": {},
   "outputs": [
    {
     "name": "stdout",
     "output_type": "stream",
     "text": [
      "au yth\n"
     ]
    }
   ],
   "source": [
    "#contoh stride yang longkap 2\n",
    "print(nama[0:12:2])"
   ]
  },
  {
   "cell_type": "code",
   "execution_count": 47,
   "metadata": {},
   "outputs": [
    {
     "name": "stdout",
     "output_type": "stream",
     "text": [
      "asyako\n"
     ]
    }
   ],
   "source": [
    "#contoh stride longkap 3\n",
    "print(nama[0:18:3])"
   ]
  },
  {
   "cell_type": "code",
   "execution_count": 49,
   "metadata": {},
   "outputs": [
    {
     "name": "stdout",
     "output_type": "stream",
     "text": [
      "eomak\n"
     ]
    }
   ],
   "source": [
    "#contoh stride dengan neagitve indexing\n",
    "print(nama[-1:-6:-1])"
   ]
  },
  {
   "cell_type": "markdown",
   "metadata": {},
   "source": [
    "# 13. Concatenate String\n",
    "\n",
    "Menggabungkan kan string dengan menggunakan operasi aritmatika (+ , *)"
   ]
  },
  {
   "cell_type": "code",
   "execution_count": 54,
   "metadata": {},
   "outputs": [
    {
     "name": "stdout",
     "output_type": "stream",
     "text": [
      "agus cyntah kamoe is the best\n"
     ]
    }
   ],
   "source": [
    "#contoh concatenante string\n",
    "print(nama + \" is the best\")"
   ]
  },
  {
   "cell_type": "code",
   "execution_count": 52,
   "metadata": {},
   "outputs": [
    {
     "name": "stdout",
     "output_type": "stream",
     "text": [
      "agus cyntah kamoe adalah data scientist\n"
     ]
    }
   ],
   "source": [
    "#contoh concatenate string\n",
    "pekerjaan = ' adalah data scientist'\n",
    "print(nama + pekerjaan)"
   ]
  },
  {
   "cell_type": "code",
   "execution_count": 55,
   "metadata": {},
   "outputs": [
    {
     "name": "stdout",
     "output_type": "stream",
     "text": [
      "agus cyntah kamoeagus cyntah kamoeagus cyntah kamoe\n"
     ]
    }
   ],
   "source": [
    "#cntoh concatenate\n",
    "print(nama * 3)"
   ]
  },
  {
   "cell_type": "markdown",
   "metadata": {},
   "source": [
    "# 14. Escape Sequence\n",
    "\n",
    "Jadi kaloescape sequence ini adalah cara untuk memasukkan string yang susah ditulisakan (enter, tab, dll)."
   ]
  },
  {
   "cell_type": "code",
   "execution_count": 68,
   "metadata": {},
   "outputs": [
    {
     "name": "stdout",
     "output_type": "stream",
     "text": [
      "agus adalah seorang \n",
      " data scientist\n"
     ]
    }
   ],
   "source": [
    "#contoh escape sequence untuk enter\n",
    "print('agus adalah seorang \\n data scientist')"
   ]
  },
  {
   "cell_type": "code",
   "execution_count": 69,
   "metadata": {},
   "outputs": [
    {
     "name": "stdout",
     "output_type": "stream",
     "text": [
      "agus adalah seaorang \t data scientist\n"
     ]
    }
   ],
   "source": [
    "#contoh escape sequence untuk tab\n",
    "print('agus adalah seaorang \\t data scientist')"
   ]
  },
  {
   "cell_type": "code",
   "execution_count": 70,
   "metadata": {},
   "outputs": [
    {
     "name": "stdout",
     "output_type": "stream",
     "text": [
      "agus adalah seorang \\ data scientist\n"
     ]
    }
   ],
   "source": [
    "#conoth escape sequence untuk \\\n",
    "print('agus adalah seorang \\\\ data scientist')"
   ]
  },
  {
   "cell_type": "code",
   "execution_count": 71,
   "metadata": {},
   "outputs": [
    {
     "name": "stdout",
     "output_type": "stream",
     "text": [
      "agus adalha seorang \\ data scientist\n"
     ]
    }
   ],
   "source": [
    "#contoh lain dari \\\n",
    "print(r'agus adalha seorang \\ data scientist')"
   ]
  },
  {
   "cell_type": "markdown",
   "metadata": {},
   "source": [
    "# 15. Print Formating\n",
    "\n",
    "Ada 3 cara yang bisa digunakan untuk menulisakna printing:\n",
    "\n",
    "1. print() ----> biasa\n",
    "2. print() ----> %s ()\n",
    "3. print() ----> .format()"
   ]
  },
  {
   "cell_type": "code",
   "execution_count": 72,
   "metadata": {},
   "outputs": [
    {
     "name": "stdout",
     "output_type": "stream",
     "text": [
      "agus cyntah kamoe  adalah data scientist\n"
     ]
    }
   ],
   "source": [
    "#contoh print biasa\n",
    "print(nama, pekerjaan)"
   ]
  },
  {
   "cell_type": "code",
   "execution_count": 75,
   "metadata": {},
   "outputs": [],
   "source": [
    "#menambahkan variabel baru\n",
    "nama_karyawan = 'agus'\n",
    "jabatan = 'manager'\n",
    "tahun = 10\n",
    "domisili = 'Jakarta'"
   ]
  },
  {
   "cell_type": "code",
   "execution_count": 80,
   "metadata": {},
   "outputs": [
    {
     "name": "stdout",
     "output_type": "stream",
     "text": [
      "nama karyawan agus, jabatnya adalah seorang manager, lama bekerjanya 10, domisilinya di Jakarta\n"
     ]
    }
   ],
   "source": [
    "#contoh print formating dengan %s\n",
    "print('nama karyawan %s, jabatnya adalah seorang %s, lama bekerjanya %s, domisilinya di %s' % (nama_karyawan, jabatan, tahun, domisili))"
   ]
  },
  {
   "cell_type": "code",
   "execution_count": 81,
   "metadata": {
    "scrolled": true
   },
   "outputs": [
    {
     "name": "stdout",
     "output_type": "stream",
     "text": [
      "nama karyawan agus, jabatanya adalah seaorang manager, lama bekerjanya 10, domisilinya di Jakarta\n"
     ]
    }
   ],
   "source": [
    "#contoh print formating dengan .format()\n",
    "print('nama karyawan {}, jabatanya adalah seaorang {}, lama bekerjanya {}, domisilinya di {}' .format(nama_karyawan, jabatan, tahun, domisili))"
   ]
  },
  {
   "cell_type": "markdown",
   "metadata": {},
   "source": [
    "Terima kasih sudah membaca sampai akhir, semoga bermanfaat. Pesan saya jangan lupa banyak latihan dan tidak perlu mengingat semua syntax atau codennya, yang penting tau logika kerjanya bagaimana. Jika dirasa notebook ini bermanfaat silahkan disebarluaskan. Terima kasih.\n",
    "\n",
    "\n",
    "Salam,\n",
    "\n",
    "\n",
    "M. Farras Alyafi"
   ]
  }
 ],
 "metadata": {
  "kernelspec": {
   "display_name": "Python 3",
   "language": "python",
   "name": "python3"
  },
  "language_info": {
   "codemirror_mode": {
    "name": "ipython",
    "version": 3
   },
   "file_extension": ".py",
   "mimetype": "text/x-python",
   "name": "python",
   "nbconvert_exporter": "python",
   "pygments_lexer": "ipython3",
   "version": "3.8.3"
  }
 },
 "nbformat": 4,
 "nbformat_minor": 4
}
