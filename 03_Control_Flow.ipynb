{
 "cells": [
  {
   "cell_type": "markdown",
   "metadata": {},
   "source": [
    "# **------------------------------------------- 03 --------------------------------------------**\n",
    "# **--------------------------------- CONTROL FLOW -------------------------------------**\n",
    "\n",
    "Notebook ini merupakan salah satu dari series #BelajarDataScience yang dibuat oleh Muhammad Farras Alyafi khusunya untuk yang tidak memiliki latar belakang IT, statistika ataupun matematika. Notebook dan juga youtube seriesnya diusahakan dibuat semudah mungkin agar mudah dipahami. Semoga notebook ini bermanfaat. Silahkan bagikan notebook ini dan jangan lupa cek video lainya di link berikut:\n",
    "\n",
    "https://youtu.be/F2VmHPqdxEM\n",
    "\n",
    "Jadi control flow itu adalah gampangnya gimana caranya si python ini akan mengeksekusi codingan/program kita sesuai dengan kondisi yang kita pengen atau bisa dikatakan cara untuk mengatur alur eksekusi codingan."
   ]
  },
  {
   "cell_type": "markdown",
   "metadata": {},
   "source": [
    "# 1.Condition"
   ]
  },
  {
   "cell_type": "markdown",
   "metadata": {},
   "source": [
    "## 1.1 Comparison Operator\n",
    "\n",
    "Comparison seperti namanya, jadi dia tugasnya untuk membandingkan antar variabel atau nilai atau data yang kita punya."
   ]
  },
  {
   "cell_type": "code",
   "execution_count": 2,
   "metadata": {
    "scrolled": true
   },
   "outputs": [
    {
     "data": {
      "image/jpeg": "[encoded data removed]",
      "text/plain": [
       "<IPython.core.display.Image object>"
      ]
     },
     "execution_count": 2,
     "metadata": {},
     "output_type": "execute_result"
    }
   ],
   "source": [
    "from IPython.display import Image \n",
    "Image('https://www.engineeringbigdata.com/wp-content/uploads/python-comparison-operators.jpg')"
   ]
  },
  {
   "cell_type": "code",
   "execution_count": 4,
   "metadata": {},
   "outputs": [
    {
     "data": {
      "text/plain": [
       "True"
      ]
     },
     "execution_count": 4,
     "metadata": {},
     "output_type": "execute_result"
    }
   ],
   "source": [
    "#contoh operator Equal \"==\" langsung antar value\n",
    "1 == 1"
   ]
  },
  {
   "cell_type": "code",
   "execution_count": 6,
   "metadata": {},
   "outputs": [
    {
     "data": {
      "text/plain": [
       "False"
      ]
     },
     "execution_count": 6,
     "metadata": {},
     "output_type": "execute_result"
    }
   ],
   "source": [
    "#contoh operator Equal antara integer dan string\n",
    "1 == '1' #akan menghasilkan False karena Integer dan String adalah tipe data yang beda"
   ]
  },
  {
   "cell_type": "code",
   "execution_count": 7,
   "metadata": {},
   "outputs": [
    {
     "data": {
      "text/plain": [
       "False"
      ]
     },
     "execution_count": 7,
     "metadata": {},
     "output_type": "execute_result"
    }
   ],
   "source": [
    "#contoh operator Equal \"==\"\" antar variabel\n",
    "x_1 = 'Agus'\n",
    "x_2 = 'Bambang'\n",
    "\n",
    "x_1 == x_2"
   ]
  },
  {
   "cell_type": "code",
   "execution_count": 8,
   "metadata": {},
   "outputs": [
    {
     "data": {
      "text/plain": [
       "True"
      ]
     },
     "execution_count": 8,
     "metadata": {},
     "output_type": "execute_result"
    }
   ],
   "source": [
    "#contoh operator Not Equal \"!=\"\n",
    "x_1 != x_2"
   ]
  },
  {
   "cell_type": "code",
   "execution_count": 10,
   "metadata": {},
   "outputs": [
    {
     "data": {
      "text/plain": [
       "True"
      ]
     },
     "execution_count": 10,
     "metadata": {},
     "output_type": "execute_result"
    }
   ],
   "source": [
    "#contoh operator Greater Than \">\"\n",
    "3 > 2"
   ]
  },
  {
   "cell_type": "code",
   "execution_count": 12,
   "metadata": {},
   "outputs": [
    {
     "data": {
      "text/plain": [
       "True"
      ]
     },
     "execution_count": 12,
     "metadata": {},
     "output_type": "execute_result"
    }
   ],
   "source": [
    "#contoh operator Greater Than \">\" membandingkan string\n",
    "x_2 > x_1 #akan menghasilkan True, karena python akan menghitung panjang karakter dari string"
   ]
  },
  {
   "cell_type": "code",
   "execution_count": 15,
   "metadata": {},
   "outputs": [
    {
     "data": {
      "text/plain": [
       "False"
      ]
     },
     "execution_count": 15,
     "metadata": {},
     "output_type": "execute_result"
    }
   ],
   "source": [
    "#contoh operator Less than \"<\"\n",
    "3 < 2"
   ]
  },
  {
   "cell_type": "code",
   "execution_count": 14,
   "metadata": {},
   "outputs": [
    {
     "data": {
      "text/plain": [
       "True"
      ]
     },
     "execution_count": 14,
     "metadata": {},
     "output_type": "execute_result"
    }
   ],
   "source": [
    "#contoh operator Less Than \"<\" membandingkan string\n",
    "x_1 < x_2 #akan menghasilkan True, karena python akan menghitung panjang karakter dari string"
   ]
  },
  {
   "cell_type": "code",
   "execution_count": 18,
   "metadata": {},
   "outputs": [
    {
     "name": "stdout",
     "output_type": "stream",
     "text": [
      "True\n",
      "True\n",
      "False\n"
     ]
    }
   ],
   "source": [
    "#contoh operator Greater Than Equal to \">=\"\n",
    "tinggi_kelas12 = 170\n",
    "adi = 171\n",
    "tika = 170\n",
    "zaki = 169\n",
    "\n",
    "print(adi >= tinggi_kelas12) # ini akan menghasilkan True\n",
    "print(tika >= tinggi_kelas12)# ini akan menghasilkan True\n",
    "print(zaki >= tinggi_kelas12)# ini akan menghasilkan False"
   ]
  },
  {
   "cell_type": "code",
   "execution_count": 19,
   "metadata": {},
   "outputs": [
    {
     "name": "stdout",
     "output_type": "stream",
     "text": [
      "False\n",
      "True\n",
      "True\n"
     ]
    }
   ],
   "source": [
    "#contoh operator Less Than Equal to \"<=\"\n",
    "\n",
    "print(adi <= tinggi_kelas12) # ini akan menghasilkan False\n",
    "print(tika <= tinggi_kelas12)# ini akan menghasilkan True\n",
    "print(zaki <= tinggi_kelas12)# ini akan menghasilkan True"
   ]
  },
  {
   "cell_type": "markdown",
   "metadata": {},
   "source": [
    "## 1.2 Logical Operators\n",
    "\n",
    "Kalo logical operator dia itu kerjanya membandingkan boolean (True/False) antar vairabel ataupun hasil kondisi.Perlu diingat jika dalam pemrograman, False itu = 0 dan True = 1."
   ]
  },
  {
   "cell_type": "code",
   "execution_count": 3,
   "metadata": {},
   "outputs": [
    {
     "data": {
      "image/png": "[encoded data removed]",
      "text/plain": [
       "<IPython.core.display.Image object>"
      ]
     },
     "execution_count": 3,
     "metadata": {},
     "output_type": "execute_result"
    }
   ],
   "source": [
    "Image('https://s3-api.us-geo.objectstorage.softlayer.net/cf-courses-data/CognitiveClass/PY0101EN/Chapter%203/Images/CondsTable.png')"
   ]
  },
  {
   "cell_type": "code",
   "execution_count": 25,
   "metadata": {},
   "outputs": [
    {
     "name": "stdout",
     "output_type": "stream",
     "text": [
      "Hasil a & b: False\n",
      "Hasil a | b: True\n"
     ]
    }
   ],
   "source": [
    "#contoh perbandingan logical sederhana Boolean\n",
    "a =  False\n",
    "b = True\n",
    "\n",
    "print('Hasil a & b:',a & b)\n",
    "print('Hasil a | b:',a | b)"
   ]
  },
  {
   "cell_type": "code",
   "execution_count": 27,
   "metadata": {},
   "outputs": [
    {
     "name": "stdout",
     "output_type": "stream",
     "text": [
      "Hasil s_1 & s_2: False\n",
      "Hasil s_1 | s_2: True\n"
     ]
    }
   ],
   "source": [
    "#contoh perbandingan logical digabungkan dengan comparison opeartor\n",
    "s_1 = 5 > 4 #ini kan hasilnya True\n",
    "s_2 = 8 > 10 #ini kan hasilnya False\n",
    "\n",
    "print('Hasil s_1 & s_2:', s_1 & s_2) # ini menghasilkan False\n",
    "print('Hasil s_1 | s_2:', s_1 | s_2) # ini menghasilkan True"
   ]
  },
  {
   "cell_type": "markdown",
   "metadata": {},
   "source": [
    "## 1.3 If, Elif, dan Else Statement\n",
    "\n",
    "Jadi kalo if statement itu gimana si python ini akan mengeksekusi codingan kita berdasarkan kondisi yang kita tentukan. Kaya misalnya \"Jika nialinya A, maka B akan dilakukan\". Kalo nilai saat di posisi if udah terpenuhi, maka code sleanjutnya ga akan dilakukan. Atau bahasa simpelnya ini tuh cara buat filter nilai yang mau kita tampilin."
   ]
  },
  {
   "cell_type": "code",
   "execution_count": 2,
   "metadata": {},
   "outputs": [
    {
     "data": {
      "text/plain": [
       "'\\nBentuk umum if statement:\\n\\nif < expr >: #kondisi yang diinginkan\\n    < statement > #aksi yang mau dilakukan jika konidis 1 terpenuhi(menjorok kedalam/whitespace)\\nelif < expr >:\\n    < statement > #aksi yang mau dilakukan jika kondisi 1 tidak terpenuhi\\nelse:\\n    < statement > #aksi yang mau dilakukan jika semua kondisi tida terpenuhi\\n'"
      ]
     },
     "execution_count": 2,
     "metadata": {},
     "output_type": "execute_result"
    }
   ],
   "source": [
    "'''\n",
    "Bentuk umum if statement:\n",
    "\n",
    "if < expr >: #kondisi yang diinginkan\n",
    "    < statement > #aksi yang mau dilakukan jika konidis 1 terpenuhi(menjorok kedalam/whitespace)\n",
    "elif < expr >:\n",
    "    < statement > #aksi yang mau dilakukan jika kondisi 1 tidak terpenuhi\n",
    "else:\n",
    "    < statement > #aksi yang mau dilakukan jika semua kondisi tida terpenuhi\n",
    "'''"
   ]
  },
  {
   "cell_type": "code",
   "execution_count": 1,
   "metadata": {},
   "outputs": [],
   "source": [
    "#variabel untuk if statement\n",
    "umur = 21\n",
    "batas_masuk_club = 21"
   ]
  },
  {
   "cell_type": "code",
   "execution_count": 5,
   "metadata": {},
   "outputs": [
    {
     "name": "stdout",
     "output_type": "stream",
     "text": [
      "Silahkan masuk\n"
     ]
    }
   ],
   "source": [
    "#contoh if statement berhasil\n",
    "if umur >= batas_masuk_club: \n",
    "    print('Silahkan masuk')\n",
    "else:\n",
    "    print('Dilarang masuk')"
   ]
  },
  {
   "cell_type": "code",
   "execution_count": 6,
   "metadata": {},
   "outputs": [],
   "source": [
    "#update umur jadi 19\n",
    "umur = 19"
   ]
  },
  {
   "cell_type": "code",
   "execution_count": 8,
   "metadata": {},
   "outputs": [
    {
     "name": "stdout",
     "output_type": "stream",
     "text": [
      "Dilarang masuk\n"
     ]
    }
   ],
   "source": [
    "#contoh if statement ditolak\n",
    "if umur >= batas_masuk_club:\n",
    "    print('Silahkan masuk')\n",
    "else:\n",
    "    print('Dilarang masuk')"
   ]
  },
  {
   "cell_type": "code",
   "execution_count": 11,
   "metadata": {},
   "outputs": [],
   "source": [
    "#update umur jadi 55\n",
    "umur = 60"
   ]
  },
  {
   "cell_type": "code",
   "execution_count": 12,
   "metadata": {},
   "outputs": [
    {
     "name": "stdout",
     "output_type": "stream",
     "text": [
      "Tobat,udah berumur juga\n"
     ]
    }
   ],
   "source": [
    "#contoh penggunaan elif\n",
    "if batas_masuk_club <= umur <= 50:\n",
    "    print('silahkan masuk')\n",
    "elif umur > 55:\n",
    "    print('Tobat,udah berumur juga')\n",
    "else:\n",
    "    print('Dilarang masuk')"
   ]
  },
  {
   "cell_type": "code",
   "execution_count": 7,
   "metadata": {},
   "outputs": [],
   "source": [
    "#update umur jadi 21 dan tempat tinggal\n",
    "pengunjung = (21,'Bekasi')\n",
    "alamat_club = 'Jakarta'"
   ]
  },
  {
   "cell_type": "code",
   "execution_count": 8,
   "metadata": {},
   "outputs": [
    {
     "name": "stdout",
     "output_type": "stream",
     "text": [
      "Silahkan masuk\n",
      "Jangan jauh-jauh mainya\n"
     ]
    }
   ],
   "source": [
    "#contoh if di dalam if berhasil\n",
    "if batas_masuk_club <= pengunjung[0] <= 50:\n",
    "    print('Silahkan masuk')\n",
    "    if pengunjung[1] != alamat_club:\n",
    "        print('Jangan jauh-jauh mainya')\n",
    "elif pengunjung[0] > 55:\n",
    "    print('Tobat,udah berumur juga')\n",
    "else:\n",
    "    print('Bobo aja di rumah')"
   ]
  },
  {
   "cell_type": "code",
   "execution_count": null,
   "metadata": {},
   "outputs": [],
   "source": [
    "#update umur jadi 21 dan tempat tinggal\n",
    "pengunjung = (21,'Bekasi')\n",
    "alamat_club = 'Jakarta'"
   ]
  },
  {
   "cell_type": "code",
   "execution_count": 9,
   "metadata": {},
   "outputs": [
    {
     "name": "stdout",
     "output_type": "stream",
     "text": [
      "Silahkan, tapi jangan lama-lama ya, nanti pulangnya kejauhan\n"
     ]
    }
   ],
   "source": [
    "#if statement isinya menggunakan logical operator\n",
    "if pengunjung[0] >= batas_masuk_club and pengunjung[1] == alamat_club:\n",
    "    print('Silahkan boss, bebas sampe jam berapa aja')\n",
    "elif pengunjung[0] >= batas_masuk_club and pengunjung[1] != alamat_club:\n",
    "    print('Silahkan, tapi jangan lama-lama ya, nanti pulangnya kejauhan')\n",
    "else:\n",
    "    print('Bobo aja di rumah')"
   ]
  },
  {
   "cell_type": "markdown",
   "metadata": {},
   "source": [
    "### 1.3.1 Conditional Expression (Python’s Ternary Operator)\n",
    "\n",
    "< expr1 > if < conditional_expr > else < expr2 >"
   ]
  },
  {
   "cell_type": "code",
   "execution_count": 16,
   "metadata": {},
   "outputs": [
    {
     "name": "stdout",
     "output_type": "stream",
     "text": [
      "Diem di kosan\n"
     ]
    }
   ],
   "source": [
    "#contoh conditional expression\n",
    "ujan = True\n",
    "print('Diem di kosan' if ujan else 'Pergi ke kantor')"
   ]
  },
  {
   "cell_type": "code",
   "execution_count": 10,
   "metadata": {},
   "outputs": [
    {
     "name": "stdout",
     "output_type": "stream",
     "text": [
      "Pergi ke kantor\n"
     ]
    }
   ],
   "source": [
    "#contoh conditional expression\n",
    "ujan = True\n",
    "print('Diem di kosan' if not ujan else 'Pergi ke kantor')"
   ]
  },
  {
   "cell_type": "markdown",
   "metadata": {},
   "source": [
    "# 2. Looping\n",
    "\n",
    "Loop sesuai dengan namanya, artinya putaran atau pengulangan. Nah jadi sesuai artinya, dia itu codingan yang kerjanya ngulang-ngulang sesuai yang kita inginkan. Dibagi jadi dua:\n",
    "\n",
    "- Indefinite: Artinya si python bakal ngulang-ngulang codingan yang kita buat sampai memenuhi kriteria yang kita mau. Kalo belom memenuhi kriteria yang kita mau dia ga berenti-berenti.\n",
    "- Definite: Si python bakal ngulang dengan jumlah pengulanganya sudah kita tentukan di awal. Kalo si Indefinite, dia ga ditentuin di awal, tapi dia bakal ngulang sampe kriterianya memenuhi. Nah kalo definite pengulanganya kita tentuin di awal.\n"
   ]
  },
  {
   "cell_type": "markdown",
   "metadata": {},
   "source": [
    "## 2.1 Range\n",
    "\n",
    "Function yang tugasnya membuat list isinya integer sesuai dengan yang kita mau. Perlu diingat, karena list seperti pelajaran kita sebelumnya, jadi dia akan berhenti sebelum batas yang kita tentukan. Misal range(0,5), maka hasilnya akan [0,2,1,3,4]. \n",
    "\n",
    "COntoh:\n",
    "range(start, stop[, step])\n",
    "\n",
    "Tapi ini hasilnya hanya dalam bentuk object, harus dirubah jadi list dulu atau make for atau while loop untuk mengeluarkan nilainya."
   ]
  },
  {
   "cell_type": "code",
   "execution_count": 6,
   "metadata": {},
   "outputs": [
    {
     "data": {
      "text/plain": [
       "range(0, 5)"
      ]
     },
     "execution_count": 6,
     "metadata": {},
     "output_type": "execute_result"
    }
   ],
   "source": [
    "#contoh range\n",
    "range(0,5) "
   ]
  },
  {
   "cell_type": "code",
   "execution_count": 7,
   "metadata": {},
   "outputs": [
    {
     "name": "stdout",
     "output_type": "stream",
     "text": [
      "[0, 1, 2, 3, 4]\n"
     ]
    }
   ],
   "source": [
    "#merubah range object menjadi list\n",
    "contoh_range_list = list(range(0,5))\n",
    "print(contoh_range_list)"
   ]
  },
  {
   "cell_type": "code",
   "execution_count": 8,
   "metadata": {},
   "outputs": [
    {
     "name": "stdout",
     "output_type": "stream",
     "text": [
      "[0, 2, 4, 6, 8]\n"
     ]
    }
   ],
   "source": [
    "#contoh range dengan step 2\n",
    "contoh_range_step = list(range(0,10,2))\n",
    "print(contoh_range_step)"
   ]
  },
  {
   "cell_type": "code",
   "execution_count": 13,
   "metadata": {},
   "outputs": [
    {
     "name": "stdout",
     "output_type": "stream",
     "text": [
      "[10, 9, 8, 7, 6, 5, 4, 3, 2, 1]\n"
     ]
    }
   ],
   "source": [
    "#contoh reverse range\n",
    "contoh_reverse_range_1 = list(range(10,0,-1))\n",
    "print(contoh_reverse_range_1)"
   ]
  },
  {
   "cell_type": "markdown",
   "metadata": {},
   "source": [
    "## 2.2 While Loop\n",
    "\n",
    "While loop itu termasuk tipe looping yang indefinite, artinya si python bakal ngulang-ngulang codingan yang kita buat sampai memenuhi kriteria yang kita mau. Kalo belom memenuhi kriteria yang kita mau dia ga berenti-berenti. "
   ]
  },
  {
   "cell_type": "code",
   "execution_count": 16,
   "metadata": {},
   "outputs": [
    {
     "name": "stdout",
     "output_type": "stream",
     "text": [
      "4\n",
      "3\n",
      "2\n",
      "1\n",
      "0\n"
     ]
    }
   ],
   "source": [
    "#contoh while loop\n",
    "n =5\n",
    "\n",
    "while n > 0:\n",
    "    n -= 1\n",
    "    print(n)"
   ]
  },
  {
   "cell_type": "markdown",
   "metadata": {},
   "source": [
    "Jadi cara kerjanya:\n",
    "1. si n=5 akan dicek dulu di kondisi while pertama, jika dia True/Benar maka perintah selanjutnya dijalankan.\n",
    "2. setelh perintah benar, maka dijalankanlah n - 1 dan di-print\n",
    "3. kembali lagi ke no 1, dicek lagi apakah kondisinya sekarang masih True/Benar atau sudah False/Salah. Jika sudah False/Salah, maka pengulangan akan berhenti."
   ]
  },
  {
   "cell_type": "code",
   "execution_count": 19,
   "metadata": {},
   "outputs": [],
   "source": [
    "#bukti while loop jika kondisi awal sudah False/Salah atau terpenuhi, dia tidak akan dijalankan\n",
    "n = 0\n",
    "\n",
    "while n > 0:\n",
    "    n += 1\n",
    "    print(n)"
   ]
  },
  {
   "cell_type": "code",
   "execution_count": 2,
   "metadata": {},
   "outputs": [
    {
     "name": "stdout",
     "output_type": "stream",
     "text": [
      "Bakwan\n",
      "Tahu\n",
      "Tempe\n",
      "Cireng\n"
     ]
    }
   ],
   "source": [
    "#contoh while loop dengan list\n",
    "gorengan = ['Bakwan', 'Tahu', 'Tempe', 'Cireng', 'Piscok', 'Ubi']\n",
    "index = 0\n",
    "\n",
    "while gorengan[index] != 'Piscok':\n",
    "    print(gorengan[index])\n",
    "    index = index + 1"
   ]
  },
  {
   "cell_type": "code",
   "execution_count": 3,
   "metadata": {},
   "outputs": [
    {
     "name": "stdout",
     "output_type": "stream",
     "text": [
      "Bakwan\n",
      "Tahu\n",
      "Tempe\n",
      "Cireng\n",
      "Piscok\n"
     ]
    }
   ],
   "source": [
    "#conoth while loop dengan tuple\n",
    "gorengan = tuple(gorengan)\n",
    "index = 0\n",
    "\n",
    "while gorengan[index] != 'Ubi':\n",
    "    print(gorengan[index])\n",
    "    index = index + 1"
   ]
  },
  {
   "cell_type": "code",
   "execution_count": 4,
   "metadata": {},
   "outputs": [
    {
     "name": "stdout",
     "output_type": "stream",
     "text": [
      "Dika membeli gorengan sebanyak 2\n",
      "Agus membeli gorengan sebanyak 5\n",
      "Susi membeli gorengan sebanyak 10\n",
      "Nisa membeli gorengan sebanyak 9\n"
     ]
    }
   ],
   "source": [
    "#contoh while loop dengan dictionary\n",
    "pelanggan = {'Dika':2, 'Agus':5, 'Susi':10, 'Nisa':9, 'Luki':7}\n",
    "index = 0\n",
    "key = list(pelanggan.keys())\n",
    "value = list(pelanggan.values())\n",
    "\n",
    "while key[index] != 'Luki' or value[index] !=7:\n",
    "    print(key[index],'membeli gorengan sebanyak',value[index])\n",
    "    index = index + 1"
   ]
  },
  {
   "cell_type": "code",
   "execution_count": 22,
   "metadata": {},
   "outputs": [
    {
     "name": "stdout",
     "output_type": "stream",
     "text": [
      "Masih dijalanin\n",
      "Masih dijalanin\n",
      "Masih dijalanin\n",
      "Masih dijalanin\n",
      "Masih dijalanin\n",
      "Udah berhenti\n"
     ]
    }
   ],
   "source": [
    "#contoh while loop dengan else\n",
    "n = 5\n",
    "\n",
    "while n > 0:\n",
    "    n = n - 1\n",
    "    print('Masih dijalanin')\n",
    "else:\n",
    "    print('Udah berhenti')"
   ]
  },
  {
   "cell_type": "code",
   "execution_count": 36,
   "metadata": {},
   "outputs": [
    {
     "name": "stdout",
     "output_type": "stream",
     "text": [
      "Tujuh\n",
      "Lima\n",
      "Tiga\n",
      "Selesai Looping\n"
     ]
    }
   ],
   "source": [
    "#contoh while dengan if statement\n",
    "n = 10\n",
    "\n",
    "while n > 0:\n",
    "    n = n-1\n",
    "    if n == 7:\n",
    "        print('Tujuh')\n",
    "    if n == 5:\n",
    "        print('Lima')\n",
    "    if n == 3:\n",
    "        print('Tiga')\n",
    "else:\n",
    "    print('Selesai Looping')"
   ]
  },
  {
   "cell_type": "code",
   "execution_count": 1,
   "metadata": {},
   "outputs": [
    {
     "name": "stdout",
     "output_type": "stream",
     "text": [
      "0\n",
      "1\n",
      "2\n",
      "3\n",
      "4\n",
      "Outer\n",
      "0\n",
      "1\n",
      "2\n",
      "3\n",
      "4\n",
      "Outer\n",
      "0\n",
      "1\n",
      "2\n",
      "3\n",
      "4\n",
      "Outer\n",
      "0\n",
      "1\n",
      "2\n",
      "3\n",
      "4\n",
      "Outer\n",
      "0\n",
      "1\n",
      "2\n",
      "3\n",
      "4\n",
      "Outer\n"
     ]
    }
   ],
   "source": [
    "#contoh nested while loop\n",
    "n = 0\n",
    "\n",
    "while n < 5:\n",
    "    m = 0\n",
    "    while m < 5:\n",
    "        print(m)\n",
    "        m = m + 1\n",
    "    print('Outer')\n",
    "    n = n + 1"
   ]
  },
  {
   "cell_type": "markdown",
   "metadata": {},
   "source": [
    "## 2.3 For Loop\n",
    "\n",
    "For loop itu masuk kedalam definite,karena pengulanganya terbatas sesuai dengan yang kita inginkan di awal ketika membuat codingan."
   ]
  },
  {
   "cell_type": "markdown",
   "metadata": {},
   "source": [
    "Bentuk umum for loop:\n",
    "\n",
    "for < var > in < iterable >:\n",
    "\n",
    "    < statement(s)>"
   ]
  },
  {
   "cell_type": "code",
   "execution_count": 4,
   "metadata": {},
   "outputs": [
    {
     "name": "stdout",
     "output_type": "stream",
     "text": [
      "Nicolas\n",
      "Maudy\n",
      "Chelsea\n",
      "Pevita\n"
     ]
    }
   ],
   "source": [
    "#contoh for loop dengan list\n",
    "nama_artis = ['Nicolas', 'Maudy', 'Chelsea', 'Pevita']\n",
    "\n",
    "for i in nama_artis:\n",
    "    print(i)"
   ]
  },
  {
   "cell_type": "code",
   "execution_count": 5,
   "metadata": {},
   "outputs": [
    {
     "name": "stdout",
     "output_type": "stream",
     "text": [
      "Bekasi\n",
      "Padang\n",
      "Denpasar\n",
      "Kupang\n"
     ]
    }
   ],
   "source": [
    "#contoh for loop dengan tuple\n",
    "nama_kota = ('Bekasi', 'Padang', 'Denpasar', 'Kupang')\n",
    "\n",
    "for i in nama_kota:\n",
    "    print(i)"
   ]
  },
  {
   "cell_type": "code",
   "execution_count": 6,
   "metadata": {},
   "outputs": [
    {
     "name": "stdout",
     "output_type": "stream",
     "text": [
      "I\n",
      "N\n",
      "D\n",
      "O\n",
      "N\n",
      "E\n",
      "S\n",
      "I\n",
      "A\n"
     ]
    }
   ],
   "source": [
    "#contoh for loop dengan stirng\n",
    "contoh_str = 'INDONESIA'\n",
    "\n",
    "for i in contoh_str:\n",
    "    print(i)"
   ]
  },
  {
   "cell_type": "code",
   "execution_count": 1,
   "metadata": {},
   "outputs": [
    {
     "name": "stdout",
     "output_type": "stream",
     "text": [
      "Bakwaan 2\n",
      "Tempe 3\n",
      "Tahu 1\n",
      "Cireng 2\n"
     ]
    }
   ],
   "source": [
    "#contoh for loop dengan dictionary\n",
    "contoh_dict = {'Bakwaan': 2, 'Tempe':3, 'Tahu':1, 'Cireng':2}\n",
    "\n",
    "for i in contoh_dict:\n",
    "    print(i,contoh_dict[i])"
   ]
  },
  {
   "cell_type": "code",
   "execution_count": 12,
   "metadata": {},
   "outputs": [
    {
     "name": "stdout",
     "output_type": "stream",
     "text": [
      "2\n",
      "3\n",
      "1\n",
      "2\n"
     ]
    }
   ],
   "source": [
    "#contoh for loop dengan dictionary values()\n",
    "for i in contoh_dict.values():\n",
    "        print(i)"
   ]
  },
  {
   "cell_type": "code",
   "execution_count": 15,
   "metadata": {},
   "outputs": [
    {
     "name": "stdout",
     "output_type": "stream",
     "text": [
      "Key= Bakwaan  Value= 2\n",
      "Key= Tempe  Value= 3\n",
      "Key= Tahu  Value= 1\n",
      "Key= Cireng  Value= 2\n"
     ]
    }
   ],
   "source": [
    "#contoh for loop dictionary dengan .items() dengan unpacking\n",
    "for i,j in contoh_dict.items():\n",
    "    print('Key=', i,' Value=', j)"
   ]
  },
  {
   "cell_type": "code",
   "execution_count": 7,
   "metadata": {},
   "outputs": [
    {
     "name": "stdout",
     "output_type": "stream",
     "text": [
      "0\n",
      "1\n",
      "2\n",
      "3\n",
      "4\n"
     ]
    }
   ],
   "source": [
    "#contoh for loop dengan range()\n",
    "for i in range(0,5):\n",
    "    print(i)"
   ]
  },
  {
   "cell_type": "code",
   "execution_count": 14,
   "metadata": {},
   "outputs": [
    {
     "name": "stdout",
     "output_type": "stream",
     "text": [
      "Agus Bakwan\n",
      "Dika Tempe\n",
      "Zara Cireng\n"
     ]
    }
   ],
   "source": [
    "#contoh for loop dengan unpacking atau lebih dari satu value\n",
    "daftar_belanja = (('Agus','Bakwan'), ('Dika','Tempe'), ('Zara', 'Cireng'))\n",
    "\n",
    "for i,j in daftar_belanja:\n",
    "    print(i,j)"
   ]
  },
  {
   "cell_type": "code",
   "execution_count": 24,
   "metadata": {},
   "outputs": [
    {
     "name": "stdout",
     "output_type": "stream",
     "text": [
      "1\n",
      "2\n",
      "3\n",
      "4\n",
      "5\n",
      "6\n",
      "7\n",
      "8\n",
      "9\n",
      "10\n",
      "Selesai\n"
     ]
    }
   ],
   "source": [
    "#contoh for loop dengan else\n",
    "n = [1,2,3,4,5,6,7,8,9,10]\n",
    "\n",
    "for i in n:\n",
    "    print(i)\n",
    "else:\n",
    "    print('Selesai')"
   ]
  },
  {
   "cell_type": "code",
   "execution_count": 2,
   "metadata": {},
   "outputs": [
    {
     "name": "stdout",
     "output_type": "stream",
     "text": [
      "Bakwan\n",
      "Tempe\n",
      "Tahu\n",
      "Cireng\n",
      "---outer\n",
      "Bakwan\n",
      "Tempe\n",
      "Tahu\n",
      "Cireng\n",
      "---outer\n",
      "Bakwan\n",
      "Tempe\n",
      "Tahu\n",
      "Cireng\n",
      "---outer\n",
      "Bakwan\n",
      "Tempe\n",
      "Tahu\n",
      "Cireng\n",
      "---outer\n",
      "Bakwan\n",
      "Tempe\n",
      "Tahu\n",
      "Cireng\n",
      "---outer\n"
     ]
    }
   ],
   "source": [
    "#contoh nested for loop\n",
    "n = ['Agus', 'Sari', 'Bambang', 'Dwi', 'Anisa']\n",
    "for i in n:\n",
    "    makanan = ['Bakwan', 'Tempe', 'Tahu', 'Cireng']\n",
    "    for j in makanan:\n",
    "        print(j)\n",
    "    print('---outer')"
   ]
  },
  {
   "cell_type": "code",
   "execution_count": 49,
   "metadata": {},
   "outputs": [
    {
     "name": "stdout",
     "output_type": "stream",
     "text": [
      "Belom ketemu\n",
      "Belom ketemu\n",
      "Belom ketemu\n",
      "Belom ketemu\n",
      "Belom ketemu\n",
      "Nah ini dia nih\n",
      "Belom ketemu\n",
      "Belom ketemu\n",
      "Selesai pencarian\n"
     ]
    }
   ],
   "source": [
    "#Contoh IF Statement di dalam for loop\n",
    "makanan = ['Bakwan', 'Tempe', 'Tahu', 'Cireng', 'Piscok', 'Ubi', 'Onde-onde']\n",
    "\n",
    "for i in makanan:\n",
    "    if i == 'Ubi':\n",
    "        print('Nah ini dia nih')\n",
    "    print('Belom ketemu')\n",
    "else:\n",
    "    print('Selesai pencarian')"
   ]
  },
  {
   "cell_type": "markdown",
   "metadata": {},
   "source": [
    "## 2.5 Termination Condition (Continue, Break & Pass)"
   ]
  },
  {
   "cell_type": "code",
   "execution_count": 29,
   "metadata": {},
   "outputs": [
    {
     "name": "stdout",
     "output_type": "stream",
     "text": [
      "9\n",
      "8\n",
      "7\n",
      "6\n"
     ]
    }
   ],
   "source": [
    "#contoh penggunaan Break pada while\n",
    "n = 10\n",
    "\n",
    "while n > 0:\n",
    "    n = n-1\n",
    "    if n == 5:\n",
    "        break\n",
    "    print(n)"
   ]
  },
  {
   "cell_type": "code",
   "execution_count": 30,
   "metadata": {
    "scrolled": true
   },
   "outputs": [
    {
     "name": "stdout",
     "output_type": "stream",
     "text": [
      "0\n",
      "1\n",
      "2\n",
      "3\n",
      "4\n",
      "5\n",
      "6\n",
      "7\n"
     ]
    }
   ],
   "source": [
    "#contoh penggunaan break pada for loop\n",
    "for i in range(0,10):\n",
    "    if i == 8:\n",
    "        break\n",
    "    print(i)"
   ]
  },
  {
   "cell_type": "code",
   "execution_count": 31,
   "metadata": {},
   "outputs": [
    {
     "name": "stdout",
     "output_type": "stream",
     "text": [
      "9\n",
      "8\n",
      "7\n",
      "6\n",
      "4\n",
      "3\n",
      "2\n",
      "1\n",
      "0\n"
     ]
    }
   ],
   "source": [
    "#contoh penggunaan continue pada while loop\n",
    "n = 10\n",
    "\n",
    "while n > 0:\n",
    "    n = n - 1\n",
    "    if n == 5:\n",
    "        continue #nanti dia akan berhenti, kemudian skip pada angka 5\n",
    "    print(n)"
   ]
  },
  {
   "cell_type": "code",
   "execution_count": 32,
   "metadata": {},
   "outputs": [
    {
     "name": "stdout",
     "output_type": "stream",
     "text": [
      "0\n",
      "1\n",
      "2\n",
      "3\n",
      "4\n",
      "5\n",
      "6\n",
      "7\n",
      "9\n"
     ]
    }
   ],
   "source": [
    "#contoh penggunaan continue pada for loop\n",
    "for i in range(0,10):\n",
    "    if i == 8:\n",
    "        continue ##nanti dia akan berhenti, kemudian skip pada angka 8\n",
    "    print(i)"
   ]
  },
  {
   "cell_type": "code",
   "execution_count": 1,
   "metadata": {},
   "outputs": [
    {
     "name": "stdout",
     "output_type": "stream",
     "text": [
      "9\n",
      "8\n",
      "7\n",
      "6\n",
      "5\n",
      "4\n",
      "3\n",
      "2\n",
      "1\n",
      "0\n"
     ]
    }
   ],
   "source": [
    "#contoh penggunaan pass pada while loop\n",
    "n = 10\n",
    "\n",
    "while n > 0:\n",
    "    n = n -1\n",
    "    if n == 6:\n",
    "        pass #dia ya ngelolosin aja, pass artinya lewat aja\n",
    "    print(n)"
   ]
  },
  {
   "cell_type": "markdown",
   "metadata": {},
   "source": [
    "# 3. Function\n",
    "\n",
    "Jadi function di dalam python itu adalah blok atau codingan yang memiliki tugas tertentu dan bisa dipakai atau digunakan kapan saja atau berkali-kali. Ada dua jeinis function:\n",
    "\n",
    "- Pre-defined functions: function yang udah ada di dalam python tanpa kita buat lagi\n",
    "- User defined functions: function yang kita buat sendiri sesuai kebutuhan kita\n",
    "\n",
    "\n",
    "Cara membuat funtion:\n",
    "1. Function dibuat dengan menggunakan \"def\" dan diikuti dengan nama function yang kita mau dan tanda kurung ().\n",
    "2. Masukkan parameter atau argumen di dalam tanda kurung () tersebut.\n",
    "3. Bisa juga sekalian mendefinisikan paramter di dalam tanda kurung()\n",
    "4. Blok atau codingan atau tugas yang mau dilakukan samam function ditulish setelah tanda \":\" dan menggunakan indentasi\n",
    "5. Membuat dokumentasi atau catatan tentang kegunaan atau cara kerja dari function yang dibuat atau disebut \"doc string\"\n",
    "6. Mengeluarkan output yang diinginkan "
   ]
  },
  {
   "cell_type": "markdown",
   "metadata": {},
   "source": [
    "## 3.1 Cara Membuatnya"
   ]
  },
  {
   "cell_type": "code",
   "execution_count": 65,
   "metadata": {},
   "outputs": [],
   "source": [
    "#contoh function menambahkan 1 ke sebuah variabel \n",
    "def tambah(a): # -----> \"tambah\" adalah nama functionya\n",
    "    \"\"\"\n",
    "    Disini tempat untuk menuliskan catatan tentang functionya atau disebut doc string\n",
    "    \"\"\"\n",
    "    b = a + 1  # -----> tugas ataupun codingan yang kita mau\n",
    "    print(b)   # -----> hasil yang dikeluarkan"
   ]
  },
  {
   "cell_type": "code",
   "execution_count": 66,
   "metadata": {},
   "outputs": [
    {
     "name": "stdout",
     "output_type": "stream",
     "text": [
      "11\n"
     ]
    }
   ],
   "source": [
    "#cara pakai function\n",
    "tambah(10)"
   ]
  },
  {
   "cell_type": "code",
   "execution_count": 67,
   "metadata": {},
   "outputs": [
    {
     "name": "stdout",
     "output_type": "stream",
     "text": [
      "Help on function tambah in module __main__:\n",
      "\n",
      "tambah(a)\n",
      "    Disini tempat untuk menuliskan catatan tentang functionya atau disebut doc string\n",
      "\n"
     ]
    }
   ],
   "source": [
    "#cara menggunakan help\n",
    "help(tambah)"
   ]
  },
  {
   "cell_type": "code",
   "execution_count": 19,
   "metadata": {},
   "outputs": [],
   "source": [
    "#contoh membuat stub (function kosong, yang nantinya akan diisi)\n",
    "def yiha():\n",
    "    pass"
   ]
  },
  {
   "cell_type": "code",
   "execution_count": 20,
   "metadata": {},
   "outputs": [],
   "source": [
    "yiha()"
   ]
  },
  {
   "cell_type": "code",
   "execution_count": 59,
   "metadata": {},
   "outputs": [],
   "source": [
    "#contoh function dengan positional argument \n",
    "def perkalian(a,b):\n",
    "    \"\"\"\n",
    "    ini adalah function untuk melakukan perkalian antara parameter a dan b\n",
    "    \"\"\"\n",
    "    c = a * b\n",
    "    print(c)"
   ]
  },
  {
   "cell_type": "code",
   "execution_count": 60,
   "metadata": {},
   "outputs": [
    {
     "name": "stdout",
     "output_type": "stream",
     "text": [
      "100\n"
     ]
    }
   ],
   "source": [
    "#menggunakan function dengan 2 parameter denga tipe data yang sama\n",
    "perkalian(10,10)"
   ]
  },
  {
   "cell_type": "code",
   "execution_count": 61,
   "metadata": {},
   "outputs": [
    {
     "name": "stdout",
     "output_type": "stream",
     "text": [
      "6.050000000000001\n"
     ]
    }
   ],
   "source": [
    "#menggunakan function dengan 2 parameter dengan tipe data yang beda (float)\n",
    "perkalian(1.1,5.5)"
   ]
  },
  {
   "cell_type": "code",
   "execution_count": 62,
   "metadata": {},
   "outputs": [
    {
     "name": "stdout",
     "output_type": "stream",
     "text": [
      "indonesiaindonesiaindonesia\n"
     ]
    }
   ],
   "source": [
    "#menggunakan function dengan 2 parameter dengan tipe data yang beda (integer x string)\n",
    "perkalian('indonesia',3)"
   ]
  },
  {
   "cell_type": "markdown",
   "metadata": {},
   "source": [
    "### 3.1.1 Positional Argument\n",
    "\n",
    "Argument yang dimasukkan ke dalam function harus sesuai urutanya"
   ]
  },
  {
   "cell_type": "code",
   "execution_count": 85,
   "metadata": {},
   "outputs": [],
   "source": [
    "#contoh posistional argument harus sesuai urutan dan tidah boleh salah input\n",
    "def pembelian(jumlah, item, harga):\n",
    "    print(f'{jumlah} {item} Rp {harga:.2f}')"
   ]
  },
  {
   "cell_type": "code",
   "execution_count": 86,
   "metadata": {},
   "outputs": [
    {
     "name": "stdout",
     "output_type": "stream",
     "text": [
      "Bakwan 1000 Rp 2.00\n"
     ]
    }
   ],
   "source": [
    "#contoh salah urutan\n",
    "pembelian('Bakwan',1000, 2) #tidak akan error, tetapi hasilnya akan salah karena urutanya salah"
   ]
  },
  {
   "cell_type": "code",
   "execution_count": 41,
   "metadata": {},
   "outputs": [
    {
     "ename": "TypeError",
     "evalue": "pembelian() missing 1 required positional argument: 'harga'",
     "output_type": "error",
     "traceback": [
      "\u001b[1;31m---------------------------------------------------------------------------\u001b[0m",
      "\u001b[1;31mTypeError\u001b[0m                                 Traceback (most recent call last)",
      "\u001b[1;32m<ipython-input-41-394a7f45bb5c>\u001b[0m in \u001b[0;36m<module>\u001b[1;34m\u001b[0m\n\u001b[0;32m      1\u001b[0m \u001b[1;31m#contoh salah kurang input\u001b[0m\u001b[1;33m\u001b[0m\u001b[1;33m\u001b[0m\u001b[1;33m\u001b[0m\u001b[0m\n\u001b[1;32m----> 2\u001b[1;33m \u001b[0mpembelian\u001b[0m\u001b[1;33m(\u001b[0m\u001b[1;36m1\u001b[0m\u001b[1;33m,\u001b[0m\u001b[1;34m'Bakwan'\u001b[0m\u001b[1;33m)\u001b[0m \u001b[1;31m#akan error karena kurang satu argument\u001b[0m\u001b[1;33m\u001b[0m\u001b[1;33m\u001b[0m\u001b[0m\n\u001b[0m",
      "\u001b[1;31mTypeError\u001b[0m: pembelian() missing 1 required positional argument: 'harga'"
     ]
    }
   ],
   "source": [
    "#contoh salah kurang input\n",
    "pembelian(1,'Bakwan') #akan error karena kurang satu argument"
   ]
  },
  {
   "cell_type": "code",
   "execution_count": 42,
   "metadata": {},
   "outputs": [
    {
     "ename": "TypeError",
     "evalue": "pembelian() takes 3 positional arguments but 4 were given",
     "output_type": "error",
     "traceback": [
      "\u001b[1;31m---------------------------------------------------------------------------\u001b[0m",
      "\u001b[1;31mTypeError\u001b[0m                                 Traceback (most recent call last)",
      "\u001b[1;32m<ipython-input-42-24628f90296b>\u001b[0m in \u001b[0;36m<module>\u001b[1;34m\u001b[0m\n\u001b[0;32m      1\u001b[0m \u001b[1;31m#contoh kelebihan input\u001b[0m\u001b[1;33m\u001b[0m\u001b[1;33m\u001b[0m\u001b[1;33m\u001b[0m\u001b[0m\n\u001b[1;32m----> 2\u001b[1;33m \u001b[0mpembelian\u001b[0m\u001b[1;33m(\u001b[0m\u001b[1;36m1\u001b[0m\u001b[1;33m,\u001b[0m\u001b[1;34m'Bakwan'\u001b[0m\u001b[1;33m,\u001b[0m \u001b[1;36m500\u001b[0m\u001b[1;33m,\u001b[0m \u001b[1;36m50\u001b[0m\u001b[1;33m)\u001b[0m\u001b[1;33m\u001b[0m\u001b[1;33m\u001b[0m\u001b[0m\n\u001b[0m",
      "\u001b[1;31mTypeError\u001b[0m: pembelian() takes 3 positional arguments but 4 were given"
     ]
    }
   ],
   "source": [
    "#contoh kelebihan input\n",
    "pembelian(1,'Bakwan', 500, 50) #akan error karena kelebihan input"
   ]
  },
  {
   "cell_type": "markdown",
   "metadata": {},
   "source": [
    "### 3.1.2 Keyword Agument\n",
    "\n",
    "Argument yang dimasukkan ke dalam function tidak tergantung urutan"
   ]
  },
  {
   "cell_type": "code",
   "execution_count": 44,
   "metadata": {},
   "outputs": [
    {
     "name": "stdout",
     "output_type": "stream",
     "text": [
      "1 Bakwan Rp 500.00\n"
     ]
    }
   ],
   "source": [
    "#contoh keyword argument\n",
    "pembelian(jumlah=1, item='Bakwan', harga=500)"
   ]
  },
  {
   "cell_type": "code",
   "execution_count": 46,
   "metadata": {},
   "outputs": [
    {
     "ename": "TypeError",
     "evalue": "pembelian() got an unexpected keyword argument 'price'",
     "output_type": "error",
     "traceback": [
      "\u001b[1;31m---------------------------------------------------------------------------\u001b[0m",
      "\u001b[1;31mTypeError\u001b[0m                                 Traceback (most recent call last)",
      "\u001b[1;32m<ipython-input-46-5401d169637d>\u001b[0m in \u001b[0;36m<module>\u001b[1;34m\u001b[0m\n\u001b[0;32m      1\u001b[0m \u001b[1;31m#contoh error dengan keyword argument\u001b[0m\u001b[1;33m\u001b[0m\u001b[1;33m\u001b[0m\u001b[1;33m\u001b[0m\u001b[0m\n\u001b[1;32m----> 2\u001b[1;33m \u001b[0mpembelian\u001b[0m\u001b[1;33m(\u001b[0m\u001b[0mjumlah\u001b[0m\u001b[1;33m=\u001b[0m\u001b[1;36m1\u001b[0m\u001b[1;33m,\u001b[0m \u001b[0mitem\u001b[0m\u001b[1;33m=\u001b[0m\u001b[1;34m'Bakwan'\u001b[0m\u001b[1;33m,\u001b[0m \u001b[0mprice\u001b[0m\u001b[1;33m=\u001b[0m\u001b[1;36m500\u001b[0m\u001b[1;33m)\u001b[0m \u001b[1;31m#akan error karena price tidak di definisikan di dalam function\u001b[0m\u001b[1;33m\u001b[0m\u001b[1;33m\u001b[0m\u001b[0m\n\u001b[0m",
      "\u001b[1;31mTypeError\u001b[0m: pembelian() got an unexpected keyword argument 'price'"
     ]
    }
   ],
   "source": [
    "#contoh error dengan keyword argument\n",
    "pembelian(jumlah=1, item='Bakwan', price=500) #akan error karena price tidak di definisikan di dalam function"
   ]
  },
  {
   "cell_type": "code",
   "execution_count": 47,
   "metadata": {},
   "outputs": [
    {
     "name": "stdout",
     "output_type": "stream",
     "text": [
      "1 Bakwan Rp 500.00\n"
     ]
    }
   ],
   "source": [
    "#contoh keyowrd argument bisa ga urutan\n",
    "pembelian(item='Bakwan', harga=500, jumlah=1)"
   ]
  },
  {
   "cell_type": "code",
   "execution_count": 92,
   "metadata": {},
   "outputs": [
    {
     "ename": "SyntaxError",
     "evalue": "positional argument follows keyword argument (<ipython-input-92-c91ed8cc2af9>, line 2)",
     "output_type": "error",
     "traceback": [
      "\u001b[1;36m  File \u001b[1;32m\"<ipython-input-92-c91ed8cc2af9>\"\u001b[1;36m, line \u001b[1;32m2\u001b[0m\n\u001b[1;33m    pembelian(1,item='Bakwan',500) #akan error karena  positional argumen akan lebih diutamakan / lebih banyak\u001b[0m\n\u001b[1;37m                              ^\u001b[0m\n\u001b[1;31mSyntaxError\u001b[0m\u001b[1;31m:\u001b[0m positional argument follows keyword argument\n"
     ]
    }
   ],
   "source": [
    "#contoh error kalo gabungin positional dan keyword argument\n",
    "pembelian(1,item='Bakwan',500) #akan error karena  positional argumen akan lebih diutamakan / lebih banyak"
   ]
  },
  {
   "cell_type": "markdown",
   "metadata": {},
   "source": [
    "### 3.1.3 Default Parameter\n",
    "\n",
    "Parameter yang ditentukan sejak awal, dan ketika tidak diinput tetap akan mengeluakan hasil sesuai settingan awal."
   ]
  },
  {
   "cell_type": "code",
   "execution_count": 52,
   "metadata": {},
   "outputs": [],
   "source": [
    "#membuat default Parameter\n",
    "def pembelian(jumlah=1, item='Bakwan', harga=500):\n",
    "    print(f'{jumlah} {item} Rp {harga:.2f}')"
   ]
  },
  {
   "cell_type": "code",
   "execution_count": 54,
   "metadata": {},
   "outputs": [
    {
     "name": "stdout",
     "output_type": "stream",
     "text": [
      "1 Bakwan Rp 500.00\n"
     ]
    }
   ],
   "source": [
    "#contoh hasil default argument dengan input kosong\n",
    "pembelian()"
   ]
  },
  {
   "cell_type": "code",
   "execution_count": 58,
   "metadata": {},
   "outputs": [
    {
     "name": "stdout",
     "output_type": "stream",
     "text": [
      "3 Piscok Rp 500.00\n"
     ]
    }
   ],
   "source": [
    "#contoh hasil default argument dengan hanya dua input\n",
    "pembelian(3, 'Piscok')"
   ]
  },
  {
   "cell_type": "markdown",
   "metadata": {},
   "source": [
    "### 3.1.4 Return Statement\n",
    "\n",
    "Syantax yang digunakan untuk exit atau mengembalikan ke argument yang dimasukkan"
   ]
  },
  {
   "cell_type": "code",
   "execution_count": 74,
   "metadata": {},
   "outputs": [],
   "source": [
    "#return satetment sebagai termination\n",
    "def angka(x):\n",
    "    if x < 0:\n",
    "        return\n",
    "    if x > 100:\n",
    "        return\n",
    "    print(x)"
   ]
  },
  {
   "cell_type": "code",
   "execution_count": 75,
   "metadata": {},
   "outputs": [
    {
     "name": "stdout",
     "output_type": "stream",
     "text": [
      "50\n"
     ]
    }
   ],
   "source": [
    "angka(-3) #tidak akan dieksekusi\n",
    "angka(101) #tidak akan dieksekusi\n",
    "angka(50)"
   ]
  },
  {
   "cell_type": "code",
   "execution_count": 81,
   "metadata": {},
   "outputs": [],
   "source": [
    "#contoh return statement sebagai return caller data\n",
    "def angka():\n",
    "    return 100"
   ]
  },
  {
   "cell_type": "code",
   "execution_count": 82,
   "metadata": {},
   "outputs": [
    {
     "name": "stdout",
     "output_type": "stream",
     "text": [
      "100\n"
     ]
    }
   ],
   "source": [
    "x = angka()\n",
    "print(x)"
   ]
  },
  {
   "cell_type": "markdown",
   "metadata": {},
   "source": [
    "### 3.1.5 Variabel Lenght Arguments\n",
    "digunakan ketika kita ingin menggunakan banyak argument, tetapi tidak tahu berapa banyaknya\n",
    "\n",
    "*args = positional arguments ----> Tuple\n",
    "\n",
    "** kwargs = keyword arguments ---> Dictionary"
   ]
  },
  {
   "cell_type": "code",
   "execution_count": 95,
   "metadata": {},
   "outputs": [],
   "source": [
    "#contoh penggunaan *args -----> args bisa diganti apa aja bebas\n",
    "def total_belanja(*args):\n",
    "    total=0\n",
    "    for i in args:\n",
    "        total = total + i\n",
    "    print('Total belanjaan anda:', total)"
   ]
  },
  {
   "cell_type": "code",
   "execution_count": 96,
   "metadata": {},
   "outputs": [
    {
     "name": "stdout",
     "output_type": "stream",
     "text": [
      "Total belanjaan anda: 13500\n"
     ]
    }
   ],
   "source": [
    "#contoh hasil penggunaan function *args\n",
    "total_belanja(500,1000,2000,10000)"
   ]
  },
  {
   "cell_type": "code",
   "execution_count": 106,
   "metadata": {},
   "outputs": [],
   "source": [
    "#contoh penggunaan **kwargs -----> kwargs bisa diganti apa aja bebas\n",
    "def penggabungan_kata(**kwargs):\n",
    "    hasil = ''\n",
    "    for i in kwargs.values():\n",
    "        hasil = hasil + ' ' + i\n",
    "    print(hasil)"
   ]
  },
  {
   "cell_type": "code",
   "execution_count": 107,
   "metadata": {},
   "outputs": [
    {
     "name": "stdout",
     "output_type": "stream",
     "text": [
      " Dika Sedang Makan Bakwan\n"
     ]
    }
   ],
   "source": [
    "penggabungan_kata(a='Dika', b='Sedang', c='Makan', d='Bakwan')"
   ]
  },
  {
   "cell_type": "markdown",
   "metadata": {},
   "source": [
    "## 3.2 Variabel (Local & Global)\n",
    "\n",
    "local = variabel yang hanya bisa diakses di dalam function dan ga bisa dipanggil diluar function\n",
    "global = variabel yang didefinisikanya di luar function dan bisa dipanggil kapan aja"
   ]
  },
  {
   "cell_type": "code",
   "execution_count": 23,
   "metadata": {},
   "outputs": [],
   "source": [
    "#contoh local variabel\n",
    "def stock(a):\n",
    "    \"\"\"\n",
    "    function ini digunkan untuk menghitung sisa stock barang\n",
    "    \"\"\"\n",
    "    total_stock = 1000  # ---------------> ini namanya local variabel\n",
    "    sisa_stock = total_stock - a\n",
    "    print('Sisa stock di gudang:',sisa_stock)"
   ]
  },
  {
   "cell_type": "code",
   "execution_count": 32,
   "metadata": {},
   "outputs": [
    {
     "name": "stdout",
     "output_type": "stream",
     "text": [
      "Sisa stock di gudang: 900\n"
     ]
    }
   ],
   "source": [
    "stock(100)"
   ]
  },
  {
   "cell_type": "code",
   "execution_count": 26,
   "metadata": {},
   "outputs": [
    {
     "ename": "NameError",
     "evalue": "name 'total_stock' is not defined",
     "output_type": "error",
     "traceback": [
      "\u001b[1;31m---------------------------------------------------------------------------\u001b[0m",
      "\u001b[1;31mNameError\u001b[0m                                 Traceback (most recent call last)",
      "\u001b[1;32m<ipython-input-26-d43219be22a1>\u001b[0m in \u001b[0;36m<module>\u001b[1;34m\u001b[0m\n\u001b[0;32m      1\u001b[0m \u001b[1;31m#bukti kalo local variabel hanya bisa diakses di dalam function\u001b[0m\u001b[1;33m\u001b[0m\u001b[1;33m\u001b[0m\u001b[1;33m\u001b[0m\u001b[0m\n\u001b[1;32m----> 2\u001b[1;33m \u001b[0mprint\u001b[0m\u001b[1;33m(\u001b[0m\u001b[0mtotal_stock\u001b[0m\u001b[1;33m)\u001b[0m \u001b[1;31m# -----> akan error karena variabel total_stock hanya ada di dalam function\u001b[0m\u001b[1;33m\u001b[0m\u001b[1;33m\u001b[0m\u001b[0m\n\u001b[0m",
      "\u001b[1;31mNameError\u001b[0m: name 'total_stock' is not defined"
     ]
    }
   ],
   "source": [
    "#bukti kalo local variabel hanya bisa diakses di dalam function\n",
    "print(total_stock) # -----> akan error karena variabel total_stock hanya ada di dalam function"
   ]
  },
  {
   "cell_type": "code",
   "execution_count": 28,
   "metadata": {},
   "outputs": [
    {
     "name": "stdout",
     "output_type": "stream",
     "text": [
      "Sisa stock di gudang: 700\n"
     ]
    }
   ],
   "source": [
    "#contoh global variabel\n",
    "b = 300 #-----> ini namanya global variabel karena dia ada di luar function\n",
    "stock(b)"
   ]
  },
  {
   "cell_type": "code",
   "execution_count": 29,
   "metadata": {},
   "outputs": [],
   "source": [
    "#bukti global variabel bisa diakses dimana aja\n",
    "item_terjual_jkt = 100\n",
    "item_terjual_bks = 200\n",
    "item_terjual_dpk = 100\n",
    "\n",
    "def item_terjual(a,b,c):\n",
    "    \"\"\"\n",
    "    function ini tugasnya adalah untuk mengetahui item yang terjual\n",
    "    \"\"\"\n",
    "    a = item_terjual_jkt\n",
    "    b = item_terjual_bks\n",
    "    c = item_terjual_dpk\n",
    "    \n",
    "    total_item_terjual = a + b + c\n",
    "    print('Total item terjual:', total_item_terjual)"
   ]
  },
  {
   "cell_type": "code",
   "execution_count": 30,
   "metadata": {},
   "outputs": [
    {
     "name": "stdout",
     "output_type": "stream",
     "text": [
      "Total item terjual: 400\n"
     ]
    }
   ],
   "source": [
    "item_terjual(item_terjual_jkt,item_terjual_bks, item_terjual_dpk)"
   ]
  },
  {
   "cell_type": "code",
   "execution_count": 17,
   "metadata": {},
   "outputs": [
    {
     "name": "stdout",
     "output_type": "stream",
     "text": [
      "Michael Jackson is an artist\n",
      "Whitney Houston is an artist\n"
     ]
    }
   ],
   "source": [
    "#membuat internal/local variabel menjadi global\n",
    "\n",
    "artist = \"Michael Jackson\"\n",
    "\n",
    "def printer(artist):\n",
    "    global internal_var \n",
    "    internal_var= \"Whitney Houston\"\n",
    "    print(artist,\"is an artist\")\n",
    "\n",
    "printer(artist) \n",
    "printer(internal_var)"
   ]
  },
  {
   "cell_type": "code",
   "execution_count": 18,
   "metadata": {},
   "outputs": [
    {
     "name": "stdout",
     "output_type": "stream",
     "text": [
      "AC/DC's rating is: 0.0\n",
      "Deep Purple's rating is:  10.0\n",
      "My favourite band is: AC/DC\n"
     ]
    }
   ],
   "source": [
    "#contoh global variabel dan local variabel punya nama yang sama\n",
    "myFavouriteBand = \"AC/DC\"\n",
    "\n",
    "def getBandRating(bandname):\n",
    "    myFavouriteBand = \"Deep Purple\"\n",
    "    if bandname == myFavouriteBand:\n",
    "        return 10.0\n",
    "    else:\n",
    "        return 0.0\n",
    "\n",
    "print(\"AC/DC's rating is:\",getBandRating(\"AC/DC\"))\n",
    "print(\"Deep Purple's rating is: \",getBandRating(\"Deep Purple\"))\n",
    "print(\"My favourite band is:\",myFavouriteBand)"
   ]
  },
  {
   "cell_type": "markdown",
   "metadata": {},
   "source": [
    "## 3.3 IF Statment Di Function"
   ]
  },
  {
   "cell_type": "code",
   "execution_count": 79,
   "metadata": {},
   "outputs": [],
   "source": [
    "#contof if statement di function\n",
    "def pembagian(a,b):\n",
    "    \"\"\"\n",
    "    function ini bertujuan untuk membagi kedua bilangan, dan akan memberi tahu apakah hasilnya\n",
    "    adalah bilangan ganjil atau genap\n",
    "    \"\"\"\n",
    "    c = a//b\n",
    "    if (c%2) == 0:\n",
    "        print(\"Hasilnya adalah\",c, \"dan bilangan tersebut adalah GENAP\")\n",
    "    else:\n",
    "        print(\"Hasilnya adalah\",c,\"dan bilangan tersebut adalah GANJIL\")"
   ]
  },
  {
   "cell_type": "code",
   "execution_count": 82,
   "metadata": {},
   "outputs": [
    {
     "name": "stdout",
     "output_type": "stream",
     "text": [
      "Hasilnya adalah 9 dan bilangan tersebut adalah GANJIL\n"
     ]
    }
   ],
   "source": [
    "pembagian(100,11)"
   ]
  },
  {
   "cell_type": "markdown",
   "metadata": {},
   "source": [
    "## 3.4 Looping Di Dalam Function"
   ]
  },
  {
   "cell_type": "code",
   "execution_count": 1,
   "metadata": {},
   "outputs": [],
   "source": [
    "#contoh looping di dalam function\n",
    "nama = ['Agus', 'Sari', 'Indah', 'Bagus', 'Dika']\n",
    "\n",
    "def nama_pelanggan(a):\n",
    "    for i in a:\n",
    "        print(i)"
   ]
  },
  {
   "cell_type": "code",
   "execution_count": 2,
   "metadata": {},
   "outputs": [
    {
     "name": "stdout",
     "output_type": "stream",
     "text": [
      "Agus\n",
      "Sari\n",
      "Indah\n",
      "Bagus\n",
      "Dika\n"
     ]
    }
   ],
   "source": [
    "nama_pelanggan(nama)"
   ]
  }
 ],
 "metadata": {
  "kernelspec": {
   "display_name": "Python 3",
   "language": "python",
   "name": "python3"
  },
  "language_info": {
   "codemirror_mode": {
    "name": "ipython",
    "version": 3
   },
   "file_extension": ".py",
   "mimetype": "text/x-python",
   "name": "python",
   "nbconvert_exporter": "python",
   "pygments_lexer": "ipython3",
   "version": "3.8.5"
  }
 },
 "nbformat": 4,
 "nbformat_minor": 4
}
