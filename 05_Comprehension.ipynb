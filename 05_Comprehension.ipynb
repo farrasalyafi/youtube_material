{
 "cells": [
  {
   "cell_type": "markdown",
   "metadata": {},
   "source": [
    "# **------------------------------------------- 05 --------------------------------------------**\n",
    "# **--------------------------------- COMPREHENSIONS --------------------------------**\n",
    "\n",
    "Notebook ini merupakan salah satu dari series #BelajarDataScience yang dibuat oleh Muhammad Farras Alyafi khusunya untuk yang tidak memiliki latar belakang IT, statistika ataupun matematika. Notebook dan juga youtube seriesnya diusahakan dibuat semudah mungkin agar mudah dipahami. Semoga notebook ini bermanfaat. Silahkan bagikan notebook ini dan jangan lupa cek video lainya di link berikut:\n",
    "\n",
    "https://youtu.be/F2VmHPqdxEM"
   ]
  },
  {
   "cell_type": "markdown",
   "metadata": {},
   "source": [
    "# 1. List Comprehensions\n",
    "\n",
    "Contoh format:\n",
    "\n",
    "output_list = [output_exp for var in input_list if (var satisfies this condition)]"
   ]
  },
  {
   "cell_type": "code",
   "execution_count": 1,
   "metadata": {},
   "outputs": [
    {
     "name": "stdout",
     "output_type": "stream",
     "text": [
      "Hasil looping:[0, 2, 4, 6, 8, 10, 12, 14, 16, 18]\n"
     ]
    }
   ],
   "source": [
    "#contoh looping\n",
    "input_list = list(range(0,20))\n",
    "\n",
    "output_list = []\n",
    "\n",
    "for var in input_list:\n",
    "    if var % 2 == 0:\n",
    "        output_list.append(var)\n",
    "\n",
    "print('Hasil looping:{}'.format(output_list))"
   ]
  },
  {
   "cell_type": "code",
   "execution_count": 2,
   "metadata": {},
   "outputs": [
    {
     "name": "stdout",
     "output_type": "stream",
     "text": [
      "Hasil list comprehension: [0, 2, 4, 6, 8, 10, 12, 14, 16, 18]\n"
     ]
    }
   ],
   "source": [
    "#contoh list comprehension\n",
    "input_list = list(range(0,20))\n",
    "\n",
    "output_list = [var for var in input_list if var % 2 == 0]\n",
    "\n",
    "print('Hasil list comprehension: {}'.format(output_list))"
   ]
  },
  {
   "cell_type": "code",
   "execution_count": 3,
   "metadata": {},
   "outputs": [
    {
     "name": "stdout",
     "output_type": "stream",
     "text": [
      "Hasil modifikasi looping:[0, 4, 16, 36, 64, 100, 144, 196, 256, 324]\n"
     ]
    }
   ],
   "source": [
    "#contoh modifikasi looping\n",
    "input_list = list(range(0,20))\n",
    "\n",
    "output_list = []\n",
    "\n",
    "for var in input_list:\n",
    "    if var % 2 == 0:\n",
    "        output_list.append(var**2)\n",
    "\n",
    "print('Hasil modifikasi looping:{}'.format(output_list))"
   ]
  },
  {
   "cell_type": "code",
   "execution_count": 4,
   "metadata": {},
   "outputs": [
    {
     "name": "stdout",
     "output_type": "stream",
     "text": [
      "Hasil modifikasi list comprehensions:[0, 4, 16, 36, 64, 100, 144, 196, 256, 324]\n"
     ]
    }
   ],
   "source": [
    "#contoh modifikasi list comprehensions\n",
    "input_list = list(range(0,20))\n",
    "\n",
    "output_list = [var**2 for var in input_list if var %2 == 0]\n",
    "\n",
    "print('Hasil modifikasi list comprehensions:{}'.format(output_list))"
   ]
  },
  {
   "cell_type": "code",
   "execution_count": 5,
   "metadata": {},
   "outputs": [
    {
     "name": "stdout",
     "output_type": "stream",
     "text": [
      "Hasil nested list comprehensions:[11, 12, 13, 14, 15, 16, 17, 18, 19]\n"
     ]
    }
   ],
   "source": [
    "#contoh nested list/nested loop\n",
    "nested_list = [[1,2,3],[4,5,6],[7,8,9]]\n",
    "\n",
    "output_list = [nes2 + 10 for nes1 in nested_list for nes2 in nes1]\n",
    "\n",
    "print('Hasil nested list comprehensions:{}'.format(output_list))"
   ]
  },
  {
   "cell_type": "code",
   "execution_count": 6,
   "metadata": {},
   "outputs": [
    {
     "name": "stdout",
     "output_type": "stream",
     "text": [
      "Hasil modifikasi list comprehensions:[0, 2, 4, 6, 8, 10]\n"
     ]
    }
   ],
   "source": [
    "#contoh multiple confition di list comprehensions\n",
    "input_list = list(range(0,20))\n",
    "\n",
    "output_list = [var for var in input_list if var %2 == 0 if var <= 10]\n",
    "\n",
    "print('Hasil modifikasi list comprehensions:{}'.format(output_list))"
   ]
  },
  {
   "cell_type": "code",
   "execution_count": 17,
   "metadata": {},
   "outputs": [
    {
     "name": "stdout",
     "output_type": "stream",
     "text": [
      "Hasil penggunaan zip di list comprehensions:[['Agus', 'Bakwan'], ['Dika', 'Bakso'], ['Ira', 'Soto'], ['Bagus', 'Pecel']]\n"
     ]
    }
   ],
   "source": [
    "#contoh penggunaan zip di list comprehension\n",
    "nama = ['Agus', 'Dika', 'Ira', 'Bagus']\n",
    "makanan = ['Bakwan', 'Bakso', 'Soto', 'Pecel']\n",
    "\n",
    "output_list = [[nama,makanan] for nama,makanan in zip(nama,makanan)]\n",
    "\n",
    "print('Hasil penggunaan zip di list comprehensions:{}'.format(output_list))"
   ]
  },
  {
   "cell_type": "code",
   "execution_count": 8,
   "metadata": {},
   "outputs": [
    {
     "name": "stdout",
     "output_type": "stream",
     "text": [
      "Hasil penggunaan method:['MERAH', 'KUNING', 'BIRU', 'JINGGA']\n"
     ]
    }
   ],
   "source": [
    "#contoh penggunaan method di dalam list comprehensions\n",
    "warna = ['merah','kuning', 'biru', 'jingga']\n",
    "\n",
    "output_list = [a.upper() for a in warna]\n",
    "\n",
    "print('Hasil penggunaan method:{}'.format(output_list))"
   ]
  },
  {
   "cell_type": "code",
   "execution_count": 9,
   "metadata": {},
   "outputs": [
    {
     "name": "stdout",
     "output_type": "stream",
     "text": [
      "Hasil complex expression:[10, 20, 50, 30, 80]\n"
     ]
    }
   ],
   "source": [
    "#contoh complex expression di dalam list comporehensions\n",
    "angka = ['-10', '-20', '50', '30', '-80']\n",
    "\n",
    "output_list = [abs(int(a)) for a in angka]\n",
    "\n",
    "print('Hasil complex expression:{}'.format(output_list))"
   ]
  },
  {
   "cell_type": "code",
   "execution_count": 10,
   "metadata": {},
   "outputs": [
    {
     "data": {
      "text/plain": [
       "int"
      ]
     },
     "execution_count": 10,
     "metadata": {},
     "output_type": "execute_result"
    }
   ],
   "source": [
    "type(output_list[0])"
   ]
  },
  {
   "cell_type": "code",
   "execution_count": 11,
   "metadata": {},
   "outputs": [
    {
     "name": "stdout",
     "output_type": "stream",
     "text": [
      "Hasil nested list comporehensions:[[5, 6, 7, 8, 9], [5, 6, 7, 8, 9], [5, 6, 7, 8, 9]]\n"
     ]
    }
   ],
   "source": [
    "#nested list comprehensions\n",
    "input_list = list(range(0,10))\n",
    "\n",
    "output_list = [[a for a in input_list if a >= 5] for a in range(3)]\n",
    "\n",
    "print('Hasil nested list comporehensions:{}'.format(output_list))"
   ]
  },
  {
   "cell_type": "markdown",
   "metadata": {},
   "source": [
    "# 2. Set Comprehensions\n",
    "\n",
    "Set comprehensions sama aja bentukny kayak list comprehensions tetapi pembutanya menggunakan kurung kurawal {}. Semua yang bisa dilakukan didalma list comprehensions bisa dilakukan di set comprehensions. Perlu diingat bahwa set akan mengabaikan input yang ganda dan jika diprint dia akan acak, karena tidak punya urutan atau order."
   ]
  },
  {
   "cell_type": "code",
   "execution_count": 15,
   "metadata": {},
   "outputs": [
    {
     "name": "stdout",
     "output_type": "stream",
     "text": [
      "Hasil set comprehensions:{1, 2, 3, 4, 5, 6, 7, 8, 9, 10, 11}\n"
     ]
    }
   ],
   "source": [
    "#contoh set comporehensions\n",
    "input_set = {1,1,1,1,1,2,2,2,2,3,3,3,4,4,4,5,5,5,6,7,8,9,10,11}\n",
    "\n",
    "output_set = {a for a in input_set}\n",
    "\n",
    "print('Hasil set comprehensions:{}'.format(output_set))"
   ]
  },
  {
   "cell_type": "code",
   "execution_count": 5,
   "metadata": {},
   "outputs": [
    {
     "name": "stdout",
     "output_type": "stream",
     "text": [
      "Hasil modifikasi set comporehension:{64, 1, 121, 4, 36, 100, 9, 16, 49, 81, 25}\n"
     ]
    }
   ],
   "source": [
    "#contoh set comporehension dengan modifikasi\n",
    "input_set = {1,1,1,1,1,2,2,2,2,3,3,3,4,4,4,5,5,5,6,7,8,9,10,11}\n",
    "\n",
    "output_set = {a**2 for a in input_set}\n",
    "\n",
    "print('Hasil modifikasi set comporehension:{}'.format(output_set))"
   ]
  },
  {
   "cell_type": "code",
   "execution_count": 17,
   "metadata": {},
   "outputs": [
    {
     "name": "stdout",
     "output_type": "stream",
     "text": [
      "Hasil penggunaan method pada set comporehensions:{'JAJANG', 'INDRA', 'ANDI', 'KURNIA'}\n"
     ]
    }
   ],
   "source": [
    "#contoh penggunaan method dalam set comporehension\n",
    "input_set = {'jajang', 'kurnia', 'jajang', 'andi', 'kurnia', 'indra' }\n",
    "\n",
    "output_set = {a.upper() for a in input_set}\n",
    "\n",
    "print('Hasil penggunaan method pada set comporehensions:{}'.format(output_set))"
   ]
  },
  {
   "cell_type": "markdown",
   "metadata": {},
   "source": [
    "# 3. Dictionary Comprehensions\n",
    "\n",
    "Dictionray comprehensions sama aja kayak list dan set comporehensions, tapi putput yang kita hasilkna adalah berupa sewuence dictionary.\n",
    "\n",
    "Format dasar pembuatan dictionary comprehensions:\n",
    "\n",
    "output_dict = {key:value for (key, value) in iterable if (key, value satisfy this condition)}"
   ]
  },
  {
   "cell_type": "code",
   "execution_count": 7,
   "metadata": {},
   "outputs": [
    {
     "name": "stdout",
     "output_type": "stream",
     "text": [
      "Hasil dictionary dari looping: {2: 4, 4: 16, 6: 36, 8: 64, 10: 100}\n"
     ]
    }
   ],
   "source": [
    "#contoh membuat dictionary dengan looping\n",
    "input_list = [1,2,3,4,5,6,7,8,9,10]\n",
    "\n",
    "output_dict =  {}\n",
    "\n",
    "for a in input_list:\n",
    "    if a%2 == 0:\n",
    "        output_dict[a] = a**2\n",
    "        \n",
    "print('Hasil dictionary dari looping: {}'.format(output_dict))"
   ]
  },
  {
   "cell_type": "code",
   "execution_count": 25,
   "metadata": {},
   "outputs": [
    {
     "name": "stdout",
     "output_type": "stream",
     "text": [
      "Hasil dictionary comprehesnions: {2: 4, 4: 16, 6: 36, 8: 64, 10: 100}\n"
     ]
    }
   ],
   "source": [
    "#conoth membuat sequence dictionary dengan dictionary comporehensions\n",
    "input_list = [1,2,3,4,5,6,7,8,9,10]\n",
    "\n",
    "output_dict = {a:a**2 for a in input_list if a %2 == 0}\n",
    "\n",
    "print('Hasil dictionary comprehesnions: {}'.format(output_dict))"
   ]
  },
  {
   "cell_type": "code",
   "execution_count": 22,
   "metadata": {},
   "outputs": [
    {
     "name": "stdout",
     "output_type": "stream",
     "text": [
      "Hasil dua input dictionary comprehensions:{'Jajang': 'Bakwan', 'Andi': 'Singkong', 'Indra': 'Soto', 'Ani': 'Mie', 'Bagas': 'Jengkol'}\n"
     ]
    }
   ],
   "source": [
    "#contoh dictionary comprehensions dengan dua inp\n",
    "nama = ['Jajang', 'Andi', 'Indra', 'Ani', 'Bagas']\n",
    "makanan = ['Bakwan', 'Singkong', 'Soto', 'Mie', 'Jengkol']\n",
    "\n",
    "output_dict = {nama:makanan for nama,makanan in zip(nama,makanan)}\n",
    "\n",
    "print('Hasil dua input dictionary comprehensions:{}'.format(output_dict))"
   ]
  },
  {
   "cell_type": "code",
   "execution_count": 8,
   "metadata": {},
   "outputs": [
    {
     "name": "stdout",
     "output_type": "stream",
     "text": [
      "Hasil dua input dictionary comprehensions:{'JAJANG': 'Bakwan', 'ANDI': 'Singkong', 'INDRA': 'Soto', 'ANI': 'Mie', 'BAGAS': 'Jengkol'}\n"
     ]
    }
   ],
   "source": [
    "#contoh penggunaan method pada dictionary comprehensions\n",
    "nama = ['jajang', 'andi', 'indra', 'ani', 'bagas']\n",
    "makanan = ['Bakwan', 'Singkong', 'Soto', 'Mie', 'Jengkol']\n",
    "\n",
    "output_dict = {nama.upper():makanan for nama,makanan in zip(nama,makanan)}\n",
    "\n",
    "print('Hasil dua input dictionary comprehensions:{}'.format(output_dict))"
   ]
  },
  {
   "cell_type": "code",
   "execution_count": 31,
   "metadata": {},
   "outputs": [
    {
     "name": "stdout",
     "output_type": "stream",
     "text": [
      "Hasil penggunaan if pada dictionary comprehensions:{'Andi': 'Mie', 'Indra': 'Mie', 'Ani': 'Mie'}\n"
     ]
    }
   ],
   "source": [
    "#contoh penggunaan if condition di dictionary comprehensions\n",
    "nama = ['Ajang', 'Andi', 'Indra', 'Ani', 'Bagas']\n",
    "makanan = ['Bakwan', 'Mie', 'Mie', 'Mie', 'Jengkol']\n",
    "\n",
    "output_dict = {nama:makanan for nama,makanan in zip(nama,makanan) if makanan == 'Mie'}\n",
    "\n",
    "print('Hasil penggunaan if pada dictionary comprehensions:{}'.format(output_dict))"
   ]
  },
  {
   "cell_type": "markdown",
   "metadata": {},
   "source": [
    "# 4. Generator Comprehensions\n",
    "\n",
    "Bentuknya mirip dengan list comprehensions, tetapi dia menggunakan tanda kurung biasa () dan yang dihasilkan adalah berupa object."
   ]
  },
  {
   "cell_type": "code",
   "execution_count": 13,
   "metadata": {},
   "outputs": [],
   "source": [
    "#contoh generator comprehensions\n",
    "input_list = list(range(0,11))\n",
    "\n",
    "output_gen = (a for a in input_list)"
   ]
  },
  {
   "cell_type": "code",
   "execution_count": 14,
   "metadata": {},
   "outputs": [
    {
     "name": "stdout",
     "output_type": "stream",
     "text": [
      "<generator object <genexpr> at 0x000001ED61F72C80>\n"
     ]
    }
   ],
   "source": [
    "#bukti jika hasilnya adalah object\n",
    "print(output_gen)"
   ]
  },
  {
   "cell_type": "code",
   "execution_count": 15,
   "metadata": {},
   "outputs": [
    {
     "name": "stdout",
     "output_type": "stream",
     "text": [
      "0 1 2 3 4 5 6 7 8 9 10 "
     ]
    }
   ],
   "source": [
    "#bukti jika hasil object tersebut dapat di-looping\n",
    "for a in output_gen:\n",
    "    print(a, end=' ')"
   ]
  }
 ],
 "metadata": {
  "kernelspec": {
   "display_name": "Python 3",
   "language": "python",
   "name": "python3"
  },
  "language_info": {
   "codemirror_mode": {
    "name": "ipython",
    "version": 3
   },
   "file_extension": ".py",
   "mimetype": "text/x-python",
   "name": "python",
   "nbconvert_exporter": "python",
   "pygments_lexer": "ipython3",
   "version": "3.8.5"
  }
 },
 "nbformat": 4,
 "nbformat_minor": 4
}
