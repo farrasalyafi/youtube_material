{
 "cells": [
  {
   "cell_type": "markdown",
   "metadata": {},
   "source": [
    "# **------------------------------------------- 06 --------------------------------------------**\n",
    "# **------------ PENGGUNAAN MAP, FILTER, REDUCE & LAMBDA ------------**\n",
    "\n",
    "Notebook ini merupakan salah satu dari series #BelajarDataScience yang dibuat oleh Muhammad Farras Alyafi khusunya untuk yang tidak memiliki latar belakang IT, statistika ataupun matematika. Notebook dan juga youtube seriesnya diusahakan dibuat semudah mungkin agar mudah dipahami. Semoga notebook ini bermanfaat. Silahkan bagikan notebook ini dan jangan lupa cek video lainya di link berikut:\n",
    "\n",
    "https://youtu.be/F2VmHPqdxEM"
   ]
  },
  {
   "cell_type": "markdown",
   "metadata": {},
   "source": [
    "# 1. Lambda\n",
    "\n",
    "Jadi sebenernya lambda itu adalah function tapi dalam satu baris atau biasa disebut dengan anonymous function. Enaknya karena dia simpel jadi bsia dimasukkan ke dalam function yang lainya. Dia bisa masukin banyak argumen tapi hasilnya hanya satu.\n",
    "\n",
    "Cara codinganya:\n",
    "\n",
    "lambda arguments: expression"
   ]
  },
  {
   "cell_type": "code",
   "execution_count": 1,
   "metadata": {},
   "outputs": [],
   "source": [
    "#contoh pembuatan function \n",
    "def penjumlahan(x,y):\n",
    "    return x + y"
   ]
  },
  {
   "cell_type": "code",
   "execution_count": 2,
   "metadata": {},
   "outputs": [
    {
     "data": {
      "text/plain": [
       "2"
      ]
     },
     "execution_count": 2,
     "metadata": {},
     "output_type": "execute_result"
    }
   ],
   "source": [
    "penjumlahan(1,1)"
   ]
  },
  {
   "cell_type": "code",
   "execution_count": 3,
   "metadata": {},
   "outputs": [],
   "source": [
    "#contoh penggunaan lambda\n",
    "penjumlahan_lmd = (lambda x,y : x + y)"
   ]
  },
  {
   "cell_type": "code",
   "execution_count": 4,
   "metadata": {},
   "outputs": [
    {
     "data": {
      "text/plain": [
       "2"
      ]
     },
     "execution_count": 4,
     "metadata": {},
     "output_type": "execute_result"
    }
   ],
   "source": [
    "penjumlahan_lmd(1,1)"
   ]
  },
  {
   "cell_type": "code",
   "execution_count": 14,
   "metadata": {},
   "outputs": [],
   "source": [
    "#contoh if statement didalam lambda\n",
    "lolos_tes = lambda x : 'Lolos' if x > 50 else 'Gugur'"
   ]
  },
  {
   "cell_type": "code",
   "execution_count": 16,
   "metadata": {},
   "outputs": [
    {
     "data": {
      "text/plain": [
       "'Gugur'"
      ]
     },
     "execution_count": 16,
     "metadata": {},
     "output_type": "execute_result"
    }
   ],
   "source": [
    "lolos_tes(30)"
   ]
  },
  {
   "cell_type": "code",
   "execution_count": 17,
   "metadata": {
    "scrolled": true
   },
   "outputs": [
    {
     "name": "stdout",
     "output_type": "stream",
     "text": [
      "[('Gorengan', 10), ('Soto', 20), ('Bakso', 30), ('Mie', 50)]\n"
     ]
    }
   ],
   "source": [
    "#contoh penggunaan lambda di dalam method\n",
    "penjualan = [('Bakso', 30), ('Soto', 20), ('Mie', 50), ('Gorengan', 10)]\n",
    "\n",
    "penjualan.sort(key=lambda x: x[1]) #ini salah satu kegunaan lamda, jadi bisa masukkan function ke dalam method/function\n",
    "\n",
    "print(penjualan)"
   ]
  },
  {
   "cell_type": "markdown",
   "metadata": {},
   "source": [
    "# 2. Map\n",
    "Map pada daasrnya adalah mengapikasikan function kedalam sebuah input dan menjadikanya object.\n",
    "\n",
    "\n",
    "Cara codinganya:\n",
    "\n",
    "map(function_to_apply, itterables)"
   ]
  },
  {
   "cell_type": "code",
   "execution_count": 18,
   "metadata": {},
   "outputs": [
    {
     "name": "stdout",
     "output_type": "stream",
     "text": [
      "[1, 4, 9, 16, 25, 36, 49, 64, 81, 100]\n"
     ]
    }
   ],
   "source": [
    "#contoh menggunakan looping\n",
    "input_list = [1,2,3,4,5,6,7,8,9,10]\n",
    "hasil_kuadrat = []\n",
    "\n",
    "for a in input_list:\n",
    "    hasil_kuadrat.append(a**2)\n",
    "    \n",
    "print(hasil_kuadrat)"
   ]
  },
  {
   "cell_type": "code",
   "execution_count": 19,
   "metadata": {},
   "outputs": [
    {
     "name": "stdout",
     "output_type": "stream",
     "text": [
      "[1, 4, 9, 16, 25, 36, 49, 64, 81, 100]\n"
     ]
    }
   ],
   "source": [
    "#contoh menggunakan map dengan lambda\n",
    "input_list = [1,2,3,4,5,6,7,8,9,10]\n",
    "\n",
    "hasil_kuadrat_lmd = list(map(lambda a : a**2, input_list))\n",
    "\n",
    "print(hasil_kuadrat_lmd)"
   ]
  },
  {
   "cell_type": "code",
   "execution_count": 20,
   "metadata": {},
   "outputs": [
    {
     "name": "stdout",
     "output_type": "stream",
     "text": [
      "['ADI', 'UCOK', 'ADAM', 'NIA', 'RIO']\n"
     ]
    }
   ],
   "source": [
    "#contoh menggunakan looping\n",
    "nama = ['adi', 'ucok', 'adam', 'nia', 'rio']\n",
    "nama_besar = []\n",
    "\n",
    "for a in nama:\n",
    "    nama_besar.append(a.upper())\n",
    "    \n",
    "print(nama_besar)"
   ]
  },
  {
   "cell_type": "code",
   "execution_count": 21,
   "metadata": {},
   "outputs": [
    {
     "name": "stdout",
     "output_type": "stream",
     "text": [
      "['ADI', 'UCOK', 'ADAM', 'NIA', 'RIO']\n"
     ]
    }
   ],
   "source": [
    "#contoh penggunaan map dengan function\n",
    "nama = ['adi', 'ucok', 'adam', 'nia', 'rio']\n",
    "\n",
    "nama_besar_map = list(map(str.upper,nama)) #kita tidak mengunakana str.upper() karena secara otomatis si map sudah melakukkanya\n",
    "\n",
    "print(nama_besar_map)"
   ]
  },
  {
   "cell_type": "markdown",
   "metadata": {},
   "source": [
    "# 3. Filter\n",
    "\n",
    "Bedanya dengan map,kalo filter dia akan menghasilkan boleaan, sehingga yang ditampilkan hanya hasil yang sesuai atau True."
   ]
  },
  {
   "cell_type": "code",
   "execution_count": 22,
   "metadata": {
    "scrolled": true
   },
   "outputs": [
    {
     "name": "stdout",
     "output_type": "stream",
     "text": [
      "[70, 75, 70, 70, 80, 85, 70, 90, 90, 85, 100]\n"
     ]
    }
   ],
   "source": [
    "#contoh filter dengan looping\n",
    "nilai = [70,75,55,50,45,70,70,80,85,65,70,90,90,85,100]\n",
    "hasil_loop = []\n",
    "\n",
    "for i in nilai:\n",
    "    if i > 65:\n",
    "        hasil_loop.append(i)\n",
    "        \n",
    "print(hasil_loop)"
   ]
  },
  {
   "cell_type": "code",
   "execution_count": 23,
   "metadata": {},
   "outputs": [],
   "source": [
    "#contoh filter dengan menggunakan function\n",
    "def lolos(nilai):\n",
    "    hasil = []\n",
    "    for i in nilai:\n",
    "        if i > 65:\n",
    "            hasil.append(i)\n",
    "    return hasil"
   ]
  },
  {
   "cell_type": "code",
   "execution_count": 24,
   "metadata": {},
   "outputs": [
    {
     "name": "stdout",
     "output_type": "stream",
     "text": [
      "[70, 75, 70, 70, 80, 85, 70, 90, 90, 85, 100]\n"
     ]
    }
   ],
   "source": [
    "print(lolos(nilai))"
   ]
  },
  {
   "cell_type": "code",
   "execution_count": 25,
   "metadata": {},
   "outputs": [
    {
     "name": "stdout",
     "output_type": "stream",
     "text": [
      "[70, 75, 70, 70, 80, 85, 70, 90, 90, 85, 100]\n"
     ]
    }
   ],
   "source": [
    "#contoh penggunan filter dengan lambda\n",
    "nilai = [70,75,55,50,45,70,70,80,85,65,70,90,90,85,100]\n",
    "\n",
    "lolos_filter = list(filter(lambda x : x > 65,nilai))\n",
    "\n",
    "print(lolos_filter)"
   ]
  },
  {
   "cell_type": "code",
   "execution_count": 26,
   "metadata": {
    "scrolled": true
   },
   "outputs": [
    {
     "name": "stdout",
     "output_type": "stream",
     "text": [
      "['Katakter lebih dari 3: Andi', 'Katakter lebih dari 3: Jajang', 'Katakter lebih dari 3: Reno']\n"
     ]
    }
   ],
   "source": [
    "#contoh mengabungkan map dengan filter\n",
    "nama = ['Andi', 'Jajang', 'Nia', 'Reno', 'Dwi']\n",
    "\n",
    "hasil = list(map(lambda nama: 'Katakter lebih dari 3: {}'.format(nama),\n",
    "                 filter(lambda nama: len(nama)>3, nama)))\n",
    "\n",
    "print(hasil)"
   ]
  },
  {
   "cell_type": "markdown",
   "metadata": {},
   "source": [
    "# 4. Reduce\n",
    "\n",
    "Kalo reduce itu cara kerjanya cumulative, jadi dia akan menggabungkan perhitungan sebelumnya dengan elemen atau input setelahnya."
   ]
  },
  {
   "cell_type": "code",
   "execution_count": 27,
   "metadata": {},
   "outputs": [
    {
     "name": "stdout",
     "output_type": "stream",
     "text": [
      "15\n"
     ]
    }
   ],
   "source": [
    "#contoh penggunaan reduce\n",
    "from functools import reduce\n",
    "\n",
    "nilai = [1,2,3,4,5]\n",
    "\n",
    "output_reduce = reduce(lambda x,y :  x+y, nilai)\n",
    "\n",
    "print(output_reduce)"
   ]
  },
  {
   "cell_type": "code",
   "execution_count": 29,
   "metadata": {},
   "outputs": [
    {
     "name": "stdout",
     "output_type": "stream",
     "text": [
      "25\n"
     ]
    }
   ],
   "source": [
    "#contoh penggunaan initial value di dalam reduce\n",
    "nilai = [1,2,3,4,5]\n",
    "\n",
    "output_reduce = reduce(lambda x,y :  x +y, nilai,10)\n",
    "\n",
    "print(output_reduce)"
   ]
  }
 ],
 "metadata": {
  "kernelspec": {
   "display_name": "Python 3",
   "language": "python",
   "name": "python3"
  },
  "language_info": {
   "codemirror_mode": {
    "name": "ipython",
    "version": 3
   },
   "file_extension": ".py",
   "mimetype": "text/x-python",
   "name": "python",
   "nbconvert_exporter": "python",
   "pygments_lexer": "ipython3",
   "version": "3.8.5"
  }
 },
 "nbformat": 4,
 "nbformat_minor": 4
}
